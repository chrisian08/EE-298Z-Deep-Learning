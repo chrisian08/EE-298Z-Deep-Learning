{
  "nbformat": 4,
  "nbformat_minor": 0,
  "metadata": {
    "colab": {
      "name": "EE298Z Completion Requirement",
      "provenance": [],
      "collapsed_sections": []
    },
    "kernelspec": {
      "name": "python3",
      "display_name": "Python 3"
    },
    "language_info": {
      "name": "python"
    },
    "accelerator": "GPU",
    "widgets": {
      "application/vnd.jupyter.widget-state+json": {
        "991dd32967404e4286c4685ba61f9d2a": {
          "model_module": "@jupyter-widgets/controls",
          "model_name": "HBoxModel",
          "state": {
            "_view_name": "HBoxView",
            "_dom_classes": [],
            "_model_name": "HBoxModel",
            "_view_module": "@jupyter-widgets/controls",
            "_model_module_version": "1.5.0",
            "_view_count": null,
            "_view_module_version": "1.5.0",
            "box_style": "",
            "layout": "IPY_MODEL_efdedab8635f4d5b9d9b0fe33797ff89",
            "_model_module": "@jupyter-widgets/controls",
            "children": [
              "IPY_MODEL_e3fdb5db8537428fb260b177cabe375e",
              "IPY_MODEL_3dd9f5b890f44ed692ad46243290e93c"
            ]
          }
        },
        "efdedab8635f4d5b9d9b0fe33797ff89": {
          "model_module": "@jupyter-widgets/base",
          "model_name": "LayoutModel",
          "state": {
            "_view_name": "LayoutView",
            "grid_template_rows": null,
            "right": null,
            "justify_content": null,
            "_view_module": "@jupyter-widgets/base",
            "overflow": null,
            "_model_module_version": "1.2.0",
            "_view_count": null,
            "flex_flow": null,
            "width": null,
            "min_width": null,
            "border": null,
            "align_items": null,
            "bottom": null,
            "_model_module": "@jupyter-widgets/base",
            "top": null,
            "grid_column": null,
            "overflow_y": null,
            "overflow_x": null,
            "grid_auto_flow": null,
            "grid_area": null,
            "grid_template_columns": null,
            "flex": null,
            "_model_name": "LayoutModel",
            "justify_items": null,
            "grid_row": null,
            "max_height": null,
            "align_content": null,
            "visibility": null,
            "align_self": null,
            "height": null,
            "min_height": null,
            "padding": null,
            "grid_auto_rows": null,
            "grid_gap": null,
            "max_width": null,
            "order": null,
            "_view_module_version": "1.2.0",
            "grid_template_areas": null,
            "object_position": null,
            "object_fit": null,
            "grid_auto_columns": null,
            "margin": null,
            "display": null,
            "left": null
          }
        },
        "e3fdb5db8537428fb260b177cabe375e": {
          "model_module": "@jupyter-widgets/controls",
          "model_name": "FloatProgressModel",
          "state": {
            "_view_name": "ProgressView",
            "style": "IPY_MODEL_cdc2d5618dc2485d93c46d500af33558",
            "_dom_classes": [],
            "description": "",
            "_model_name": "FloatProgressModel",
            "bar_style": "success",
            "max": 182040794,
            "_view_module": "@jupyter-widgets/controls",
            "_model_module_version": "1.5.0",
            "value": 182040794,
            "_view_count": null,
            "_view_module_version": "1.5.0",
            "orientation": "horizontal",
            "min": 0,
            "description_tooltip": null,
            "_model_module": "@jupyter-widgets/controls",
            "layout": "IPY_MODEL_74c00d2133d142b78f64cb13e51e6919"
          }
        },
        "3dd9f5b890f44ed692ad46243290e93c": {
          "model_module": "@jupyter-widgets/controls",
          "model_name": "HTMLModel",
          "state": {
            "_view_name": "HTMLView",
            "style": "IPY_MODEL_13fd278902b746e2bb2229068110defb",
            "_dom_classes": [],
            "description": "",
            "_model_name": "HTMLModel",
            "placeholder": "​",
            "_view_module": "@jupyter-widgets/controls",
            "_model_module_version": "1.5.0",
            "value": " 182041600/? [00:08&lt;00:00, 22326765.70it/s]",
            "_view_count": null,
            "_view_module_version": "1.5.0",
            "description_tooltip": null,
            "_model_module": "@jupyter-widgets/controls",
            "layout": "IPY_MODEL_ad0987124a054e879038da3371986ccc"
          }
        },
        "cdc2d5618dc2485d93c46d500af33558": {
          "model_module": "@jupyter-widgets/controls",
          "model_name": "ProgressStyleModel",
          "state": {
            "_view_name": "StyleView",
            "_model_name": "ProgressStyleModel",
            "description_width": "initial",
            "_view_module": "@jupyter-widgets/base",
            "_model_module_version": "1.5.0",
            "_view_count": null,
            "_view_module_version": "1.2.0",
            "bar_color": null,
            "_model_module": "@jupyter-widgets/controls"
          }
        },
        "74c00d2133d142b78f64cb13e51e6919": {
          "model_module": "@jupyter-widgets/base",
          "model_name": "LayoutModel",
          "state": {
            "_view_name": "LayoutView",
            "grid_template_rows": null,
            "right": null,
            "justify_content": null,
            "_view_module": "@jupyter-widgets/base",
            "overflow": null,
            "_model_module_version": "1.2.0",
            "_view_count": null,
            "flex_flow": null,
            "width": null,
            "min_width": null,
            "border": null,
            "align_items": null,
            "bottom": null,
            "_model_module": "@jupyter-widgets/base",
            "top": null,
            "grid_column": null,
            "overflow_y": null,
            "overflow_x": null,
            "grid_auto_flow": null,
            "grid_area": null,
            "grid_template_columns": null,
            "flex": null,
            "_model_name": "LayoutModel",
            "justify_items": null,
            "grid_row": null,
            "max_height": null,
            "align_content": null,
            "visibility": null,
            "align_self": null,
            "height": null,
            "min_height": null,
            "padding": null,
            "grid_auto_rows": null,
            "grid_gap": null,
            "max_width": null,
            "order": null,
            "_view_module_version": "1.2.0",
            "grid_template_areas": null,
            "object_position": null,
            "object_fit": null,
            "grid_auto_columns": null,
            "margin": null,
            "display": null,
            "left": null
          }
        },
        "13fd278902b746e2bb2229068110defb": {
          "model_module": "@jupyter-widgets/controls",
          "model_name": "DescriptionStyleModel",
          "state": {
            "_view_name": "StyleView",
            "_model_name": "DescriptionStyleModel",
            "description_width": "",
            "_view_module": "@jupyter-widgets/base",
            "_model_module_version": "1.5.0",
            "_view_count": null,
            "_view_module_version": "1.2.0",
            "_model_module": "@jupyter-widgets/controls"
          }
        },
        "ad0987124a054e879038da3371986ccc": {
          "model_module": "@jupyter-widgets/base",
          "model_name": "LayoutModel",
          "state": {
            "_view_name": "LayoutView",
            "grid_template_rows": null,
            "right": null,
            "justify_content": null,
            "_view_module": "@jupyter-widgets/base",
            "overflow": null,
            "_model_module_version": "1.2.0",
            "_view_count": null,
            "flex_flow": null,
            "width": null,
            "min_width": null,
            "border": null,
            "align_items": null,
            "bottom": null,
            "_model_module": "@jupyter-widgets/base",
            "top": null,
            "grid_column": null,
            "overflow_y": null,
            "overflow_x": null,
            "grid_auto_flow": null,
            "grid_area": null,
            "grid_template_columns": null,
            "flex": null,
            "_model_name": "LayoutModel",
            "justify_items": null,
            "grid_row": null,
            "max_height": null,
            "align_content": null,
            "visibility": null,
            "align_self": null,
            "height": null,
            "min_height": null,
            "padding": null,
            "grid_auto_rows": null,
            "grid_gap": null,
            "max_width": null,
            "order": null,
            "_view_module_version": "1.2.0",
            "grid_template_areas": null,
            "object_position": null,
            "object_fit": null,
            "grid_auto_columns": null,
            "margin": null,
            "display": null,
            "left": null
          }
        },
        "82b5295da51c42158112c8fedfec1ff4": {
          "model_module": "@jupyter-widgets/controls",
          "model_name": "HBoxModel",
          "state": {
            "_view_name": "HBoxView",
            "_dom_classes": [],
            "_model_name": "HBoxModel",
            "_view_module": "@jupyter-widgets/controls",
            "_model_module_version": "1.5.0",
            "_view_count": null,
            "_view_module_version": "1.5.0",
            "box_style": "",
            "layout": "IPY_MODEL_46f51b6cf49e423aa9ca9504b919e7ea",
            "_model_module": "@jupyter-widgets/controls",
            "children": [
              "IPY_MODEL_247054c474254a93aac2728a0de9a2b4",
              "IPY_MODEL_95c642f82660452f8f0fc3bc8f2dbf07"
            ]
          }
        },
        "46f51b6cf49e423aa9ca9504b919e7ea": {
          "model_module": "@jupyter-widgets/base",
          "model_name": "LayoutModel",
          "state": {
            "_view_name": "LayoutView",
            "grid_template_rows": null,
            "right": null,
            "justify_content": null,
            "_view_module": "@jupyter-widgets/base",
            "overflow": null,
            "_model_module_version": "1.2.0",
            "_view_count": null,
            "flex_flow": null,
            "width": null,
            "min_width": null,
            "border": null,
            "align_items": null,
            "bottom": null,
            "_model_module": "@jupyter-widgets/base",
            "top": null,
            "grid_column": null,
            "overflow_y": null,
            "overflow_x": null,
            "grid_auto_flow": null,
            "grid_area": null,
            "grid_template_columns": null,
            "flex": null,
            "_model_name": "LayoutModel",
            "justify_items": null,
            "grid_row": null,
            "max_height": null,
            "align_content": null,
            "visibility": null,
            "align_self": null,
            "height": null,
            "min_height": null,
            "padding": null,
            "grid_auto_rows": null,
            "grid_gap": null,
            "max_width": null,
            "order": null,
            "_view_module_version": "1.2.0",
            "grid_template_areas": null,
            "object_position": null,
            "object_fit": null,
            "grid_auto_columns": null,
            "margin": null,
            "display": null,
            "left": null
          }
        },
        "247054c474254a93aac2728a0de9a2b4": {
          "model_module": "@jupyter-widgets/controls",
          "model_name": "FloatProgressModel",
          "state": {
            "_view_name": "ProgressView",
            "style": "IPY_MODEL_580b930b852e4e2295207a5ca40cb129",
            "_dom_classes": [],
            "description": "",
            "_model_name": "FloatProgressModel",
            "bar_style": "success",
            "max": 64275384,
            "_view_module": "@jupyter-widgets/controls",
            "_model_module_version": "1.5.0",
            "value": 64275384,
            "_view_count": null,
            "_view_module_version": "1.5.0",
            "orientation": "horizontal",
            "min": 0,
            "description_tooltip": null,
            "_model_module": "@jupyter-widgets/controls",
            "layout": "IPY_MODEL_d65a0075aaca4d2d92893d7f98c3f95a"
          }
        },
        "95c642f82660452f8f0fc3bc8f2dbf07": {
          "model_module": "@jupyter-widgets/controls",
          "model_name": "HTMLModel",
          "state": {
            "_view_name": "HTMLView",
            "style": "IPY_MODEL_cc69055531424504a4578e58ffe0b3d2",
            "_dom_classes": [],
            "description": "",
            "_model_name": "HTMLModel",
            "placeholder": "​",
            "_view_module": "@jupyter-widgets/controls",
            "_model_module_version": "1.5.0",
            "value": " 64275456/? [00:11&lt;00:00, 5569212.96it/s]",
            "_view_count": null,
            "_view_module_version": "1.5.0",
            "description_tooltip": null,
            "_model_module": "@jupyter-widgets/controls",
            "layout": "IPY_MODEL_93f53dffecdd408780de35bfc0f0de12"
          }
        },
        "580b930b852e4e2295207a5ca40cb129": {
          "model_module": "@jupyter-widgets/controls",
          "model_name": "ProgressStyleModel",
          "state": {
            "_view_name": "StyleView",
            "_model_name": "ProgressStyleModel",
            "description_width": "initial",
            "_view_module": "@jupyter-widgets/base",
            "_model_module_version": "1.5.0",
            "_view_count": null,
            "_view_module_version": "1.2.0",
            "bar_color": null,
            "_model_module": "@jupyter-widgets/controls"
          }
        },
        "d65a0075aaca4d2d92893d7f98c3f95a": {
          "model_module": "@jupyter-widgets/base",
          "model_name": "LayoutModel",
          "state": {
            "_view_name": "LayoutView",
            "grid_template_rows": null,
            "right": null,
            "justify_content": null,
            "_view_module": "@jupyter-widgets/base",
            "overflow": null,
            "_model_module_version": "1.2.0",
            "_view_count": null,
            "flex_flow": null,
            "width": null,
            "min_width": null,
            "border": null,
            "align_items": null,
            "bottom": null,
            "_model_module": "@jupyter-widgets/base",
            "top": null,
            "grid_column": null,
            "overflow_y": null,
            "overflow_x": null,
            "grid_auto_flow": null,
            "grid_area": null,
            "grid_template_columns": null,
            "flex": null,
            "_model_name": "LayoutModel",
            "justify_items": null,
            "grid_row": null,
            "max_height": null,
            "align_content": null,
            "visibility": null,
            "align_self": null,
            "height": null,
            "min_height": null,
            "padding": null,
            "grid_auto_rows": null,
            "grid_gap": null,
            "max_width": null,
            "order": null,
            "_view_module_version": "1.2.0",
            "grid_template_areas": null,
            "object_position": null,
            "object_fit": null,
            "grid_auto_columns": null,
            "margin": null,
            "display": null,
            "left": null
          }
        },
        "cc69055531424504a4578e58ffe0b3d2": {
          "model_module": "@jupyter-widgets/controls",
          "model_name": "DescriptionStyleModel",
          "state": {
            "_view_name": "StyleView",
            "_model_name": "DescriptionStyleModel",
            "description_width": "",
            "_view_module": "@jupyter-widgets/base",
            "_model_module_version": "1.5.0",
            "_view_count": null,
            "_view_module_version": "1.2.0",
            "_model_module": "@jupyter-widgets/controls"
          }
        },
        "93f53dffecdd408780de35bfc0f0de12": {
          "model_module": "@jupyter-widgets/base",
          "model_name": "LayoutModel",
          "state": {
            "_view_name": "LayoutView",
            "grid_template_rows": null,
            "right": null,
            "justify_content": null,
            "_view_module": "@jupyter-widgets/base",
            "overflow": null,
            "_model_module_version": "1.2.0",
            "_view_count": null,
            "flex_flow": null,
            "width": null,
            "min_width": null,
            "border": null,
            "align_items": null,
            "bottom": null,
            "_model_module": "@jupyter-widgets/base",
            "top": null,
            "grid_column": null,
            "overflow_y": null,
            "overflow_x": null,
            "grid_auto_flow": null,
            "grid_area": null,
            "grid_template_columns": null,
            "flex": null,
            "_model_name": "LayoutModel",
            "justify_items": null,
            "grid_row": null,
            "max_height": null,
            "align_content": null,
            "visibility": null,
            "align_self": null,
            "height": null,
            "min_height": null,
            "padding": null,
            "grid_auto_rows": null,
            "grid_gap": null,
            "max_width": null,
            "order": null,
            "_view_module_version": "1.2.0",
            "grid_template_areas": null,
            "object_position": null,
            "object_fit": null,
            "grid_auto_columns": null,
            "margin": null,
            "display": null,
            "left": null
          }
        }
      }
    }
  },
  "cells": [
    {
      "cell_type": "markdown",
      "metadata": {
        "id": "kEI5or70dV5k"
      },
      "source": [
        "# **SVHN Classification using PyTorch Image Models**\n",
        "In this notebook, we train three models on The Street View House Numbers (SVHN) Dataset using  PyTorch Image Models (timm) module. \n",
        "\n",
        "_Brief Description and Overview of the SVHN Dataset_\n",
        "\n",
        "SVHN is a real-world image dataset for developing machine learning and object recognition algorithms with minimal requirement on data preprocessing and formatting. It can be seen as similar in flavor to MNIST (e.g., the images are of small cropped digits), but incorporates an order of magnitude more labeled data (over 600,000 digit images) and comes from a significantly harder, unsolved, real world problem (recognizing digits and numbers in natural scene images). SVHN is obtained from house numbers in Google Street View images.\n",
        "\n",
        "Overview:\n",
        "\n",
        "*  10 classes, 1 for each digit. Digit '1' has label 1, '9' has label 9 and '0' has label 10.\n",
        "* 73257 digits for training, 26032 digits for testing, and 531131 additional, somewhat less difficult samples, to use as extra training data\n",
        "* Comes in two formats:\n",
        "  1. Original images with character level bounding boxes.\n",
        "  2. MNIST-like 32-by-32 images centered around a single character (many of the images do contain some distractors at the sides).\n",
        "\n",
        "(Source: http://ufldl.stanford.edu/housenumbers)"
      ]
    },
    {
      "cell_type": "code",
      "metadata": {
        "colab": {
          "base_uri": "https://localhost:8080/"
        },
        "id": "72OWVt9UzvBR",
        "outputId": "d856d468-6c4d-40ca-af1b-16d4b36d79b8"
      },
      "source": [
        "# Load the necessary libraries\n",
        "!pip install timm\n",
        "import timm\n",
        "import numpy as np\n",
        "import matplotlib.pyplot as plt\n",
        "import time\n",
        "import os\n",
        "import copy\n",
        "import torch\n",
        "import torch.nn as nn\n",
        "import torch.optim as optim\n",
        "from torch.optim import lr_scheduler\n",
        "import torchvision\n",
        "from torchvision import datasets, models, transforms"
      ],
      "execution_count": null,
      "outputs": [
        {
          "output_type": "stream",
          "text": [
            "Collecting timm\n",
            "\u001b[?25l  Downloading https://files.pythonhosted.org/packages/9e/89/d94f59780b5dd973154bf506d8ce598f6bfe7cc44dd445d644d6d3be8c39/timm-0.4.5-py3-none-any.whl (287kB)\n",
            "\r\u001b[K     |█▏                              | 10kB 12.1MB/s eta 0:00:01\r\u001b[K     |██▎                             | 20kB 7.2MB/s eta 0:00:01\r\u001b[K     |███▍                            | 30kB 6.3MB/s eta 0:00:01\r\u001b[K     |████▋                           | 40kB 3.7MB/s eta 0:00:01\r\u001b[K     |█████▊                          | 51kB 4.5MB/s eta 0:00:01\r\u001b[K     |██████▉                         | 61kB 5.1MB/s eta 0:00:01\r\u001b[K     |████████                        | 71kB 5.2MB/s eta 0:00:01\r\u001b[K     |█████████▏                      | 81kB 5.5MB/s eta 0:00:01\r\u001b[K     |██████████▎                     | 92kB 5.9MB/s eta 0:00:01\r\u001b[K     |███████████▍                    | 102kB 5.9MB/s eta 0:00:01\r\u001b[K     |████████████▌                   | 112kB 5.9MB/s eta 0:00:01\r\u001b[K     |█████████████▊                  | 122kB 5.9MB/s eta 0:00:01\r\u001b[K     |██████████████▉                 | 133kB 5.9MB/s eta 0:00:01\r\u001b[K     |████████████████                | 143kB 5.9MB/s eta 0:00:01\r\u001b[K     |█████████████████               | 153kB 5.9MB/s eta 0:00:01\r\u001b[K     |██████████████████▎             | 163kB 5.9MB/s eta 0:00:01\r\u001b[K     |███████████████████▍            | 174kB 5.9MB/s eta 0:00:01\r\u001b[K     |████████████████████▌           | 184kB 5.9MB/s eta 0:00:01\r\u001b[K     |█████████████████████▋          | 194kB 5.9MB/s eta 0:00:01\r\u001b[K     |██████████████████████▉         | 204kB 5.9MB/s eta 0:00:01\r\u001b[K     |████████████████████████        | 215kB 5.9MB/s eta 0:00:01\r\u001b[K     |█████████████████████████       | 225kB 5.9MB/s eta 0:00:01\r\u001b[K     |██████████████████████████▏     | 235kB 5.9MB/s eta 0:00:01\r\u001b[K     |███████████████████████████▍    | 245kB 5.9MB/s eta 0:00:01\r\u001b[K     |████████████████████████████▌   | 256kB 5.9MB/s eta 0:00:01\r\u001b[K     |█████████████████████████████▋  | 266kB 5.9MB/s eta 0:00:01\r\u001b[K     |██████████████████████████████▉ | 276kB 5.9MB/s eta 0:00:01\r\u001b[K     |████████████████████████████████| 286kB 5.9MB/s eta 0:00:01\r\u001b[K     |████████████████████████████████| 296kB 5.9MB/s \n",
            "\u001b[?25hRequirement already satisfied: torchvision in /usr/local/lib/python3.7/dist-packages (from timm) (0.9.1+cu101)\n",
            "Requirement already satisfied: torch>=1.4 in /usr/local/lib/python3.7/dist-packages (from timm) (1.8.1+cu101)\n",
            "Requirement already satisfied: pillow>=4.1.1 in /usr/local/lib/python3.7/dist-packages (from torchvision->timm) (7.1.2)\n",
            "Requirement already satisfied: numpy in /usr/local/lib/python3.7/dist-packages (from torchvision->timm) (1.19.5)\n",
            "Requirement already satisfied: typing-extensions in /usr/local/lib/python3.7/dist-packages (from torch>=1.4->timm) (3.7.4.3)\n",
            "Installing collected packages: timm\n",
            "Successfully installed timm-0.4.5\n"
          ],
          "name": "stdout"
        }
      ]
    },
    {
      "cell_type": "markdown",
      "metadata": {
        "id": "0Mri4ezAK3_F"
      },
      "source": [
        "**Load the SVHN dataset using torchvision**\n",
        "\n",
        "Note: In this dataset, '0' has a label 0 instead of 10"
      ]
    },
    {
      "cell_type": "code",
      "metadata": {
        "colab": {
          "base_uri": "https://localhost:8080/",
          "height": 190,
          "referenced_widgets": [
            "991dd32967404e4286c4685ba61f9d2a",
            "efdedab8635f4d5b9d9b0fe33797ff89",
            "e3fdb5db8537428fb260b177cabe375e",
            "3dd9f5b890f44ed692ad46243290e93c",
            "cdc2d5618dc2485d93c46d500af33558",
            "74c00d2133d142b78f64cb13e51e6919",
            "13fd278902b746e2bb2229068110defb",
            "ad0987124a054e879038da3371986ccc",
            "82b5295da51c42158112c8fedfec1ff4",
            "46f51b6cf49e423aa9ca9504b919e7ea",
            "247054c474254a93aac2728a0de9a2b4",
            "95c642f82660452f8f0fc3bc8f2dbf07",
            "580b930b852e4e2295207a5ca40cb129",
            "d65a0075aaca4d2d92893d7f98c3f95a",
            "cc69055531424504a4578e58ffe0b3d2",
            "93f53dffecdd408780de35bfc0f0de12"
          ]
        },
        "id": "ndrGjlzaf3-9",
        "outputId": "2ddc878b-4e6d-40d9-8870-b8038a49ab5d"
      },
      "source": [
        "# Download our datasets and apply transforms using the torchvision module\n",
        "mean = np.array([0.5, 0.5, 0.5])\n",
        "std = np.array([0.25, 0.25, 0.25])\n",
        "data_transform = {'train': transforms.Compose([\n",
        "        transforms.ToTensor(),\n",
        "        transforms.Normalize(mean, std)\n",
        "    ]),\n",
        "    'test': transforms.Compose([\n",
        "        transforms.ToTensor(),\n",
        "        transforms.Normalize(mean, std)\n",
        "    ]),\n",
        "}\n",
        "\n",
        "data_dir = 'data/SVHN'\n",
        "image_datasets = {x: datasets.SVHN(os.path.join(data_dir, x), split = x, transform = data_transform[x], download = True)\n",
        "              for x in ['train', 'test']}\n",
        "dataloaders = {x: torch.utils.data.DataLoader(image_datasets[x], batch_size = 128,\n",
        "                                             shuffle = True, num_workers = 0)\n",
        "              for x in ['train', 'test']}\n",
        "dataset_sizes = {x: len(image_datasets[x]) for x in ['train', 'test']}\n",
        "print(\"Train dataset:\", dataset_sizes['train'])\n",
        "print(\"Test dataset:\", dataset_sizes['test'])\n",
        "\n",
        "class_names = [0, 1, 2, 3, 4, 5, 6, 7, 8, 9]\n",
        "\n",
        "# Configure device to use GPU when available \n",
        "device = torch.device(\"cuda:0\" if torch.cuda.is_available() else \"cpu\")"
      ],
      "execution_count": null,
      "outputs": [
        {
          "output_type": "stream",
          "text": [
            "Downloading http://ufldl.stanford.edu/housenumbers/train_32x32.mat to data/SVHN/train/train_32x32.mat\n"
          ],
          "name": "stdout"
        },
        {
          "output_type": "display_data",
          "data": {
            "application/vnd.jupyter.widget-view+json": {
              "model_id": "991dd32967404e4286c4685ba61f9d2a",
              "version_minor": 0,
              "version_major": 2
            },
            "text/plain": [
              "HBox(children=(FloatProgress(value=0.0, max=182040794.0), HTML(value='')))"
            ]
          },
          "metadata": {
            "tags": []
          }
        },
        {
          "output_type": "stream",
          "text": [
            "\n",
            "Downloading http://ufldl.stanford.edu/housenumbers/test_32x32.mat to data/SVHN/test/test_32x32.mat\n"
          ],
          "name": "stdout"
        },
        {
          "output_type": "display_data",
          "data": {
            "application/vnd.jupyter.widget-view+json": {
              "model_id": "82b5295da51c42158112c8fedfec1ff4",
              "version_minor": 0,
              "version_major": 2
            },
            "text/plain": [
              "HBox(children=(FloatProgress(value=0.0, max=64275384.0), HTML(value='')))"
            ]
          },
          "metadata": {
            "tags": []
          }
        },
        {
          "output_type": "stream",
          "text": [
            "\n",
            "Train dataset: 73257\n",
            "Test dataset: 26032\n"
          ],
          "name": "stdout"
        }
      ]
    },
    {
      "cell_type": "markdown",
      "metadata": {
        "id": "8C7ApNMHOGux"
      },
      "source": [
        "**Visualize sample images from the datasets**"
      ]
    },
    {
      "cell_type": "code",
      "metadata": {
        "colab": {
          "base_uri": "https://localhost:8080/",
          "height": 279
        },
        "id": "gsaSrLJMKoho",
        "outputId": "41095068-d55a-4441-8c6d-9a21c39dfeb9"
      },
      "source": [
        "def imshow(input, title, label = ''):\n",
        "    input = input.numpy().transpose((1, 2, 0))\n",
        "    input = std * input + mean\n",
        "    input = np.clip(input, 0, 1)\n",
        "    plt.imshow(input)\n",
        "    plt.title(title.upper())\n",
        "    plt.xlabel(label)\n",
        "    plt.show()\n",
        "\n",
        "num_samples = 5 # number of sample images to show\n",
        "for x in ['train', 'test']:  \n",
        "  # Get samples of data\n",
        "  inputs, classes = next(iter(dataloaders[x]))\n",
        "  # Make a grid using a number of samples (num_samples) from batch \n",
        "  out = torchvision.utils.make_grid(inputs[:num_samples], nrow  = num_samples)\n",
        "  imshow(out, title = x, label = [class_names[name] for name in classes[:num_samples]])"
      ],
      "execution_count": null,
      "outputs": [
        {
          "output_type": "display_data",
          "data": {
            "image/png": "[encoded data removed]",
            "text/plain": [
              "<Figure size 432x288 with 1 Axes>"
            ]
          },
          "metadata": {
            "tags": [],
            "needs_background": "light"
          }
        },
        {
          "output_type": "display_data",
          "data": {
            "image/png": "[encoded data removed]",
            "text/plain": [
              "<Figure size 432x288 with 1 Axes>"
            ]
          },
          "metadata": {
            "tags": [],
            "needs_background": "light"
          }
        }
      ]
    },
    {
      "cell_type": "markdown",
      "metadata": {
        "id": "gPvCHVUF6FB-"
      },
      "source": [
        "**Train the model**\n",
        "\n",
        "In this section, we write a function to train the model, track statistics and save the best model."
      ]
    },
    {
      "cell_type": "code",
      "metadata": {
        "id": "bNyic5Ev03Z3"
      },
      "source": [
        "def train_model(model, criterion, optimizer, scheduler, num_epochs=25):\n",
        "    since = time.time()\n",
        "    best_model_weights = copy.deepcopy(model.state_dict())\n",
        "    best_acc = 0.0\n",
        "    train_hist = []\n",
        "    validation_hist = []\n",
        "    time_hist = []\n",
        "    for epoch in range(num_epochs):\n",
        "        print('Epoch {}/{}'.format(epoch + 1, num_epochs), end = \" | \")\n",
        "        epoch_start_time = time.time()\n",
        "        # Each epoch has a training and validation phase\n",
        "        for phase in ['train', 'test']:\n",
        "            if phase == 'train':\n",
        "                model.train()  # Set model to training mode\n",
        "            else:\n",
        "                model.eval()   # Set model to evaluate mode\n",
        "\n",
        "            running_loss = 0.0\n",
        "            running_corrects = 0\n",
        "\n",
        "            # Iterate over data.\n",
        "            for inputs, labels in dataloaders[phase]:\n",
        "                inputs = inputs.to(device)\n",
        "                labels = labels.to(device)\n",
        "\n",
        "                # forward\n",
        "                # track history if only in train\n",
        "                with torch.set_grad_enabled(phase == 'train'):\n",
        "                    outputs = model(inputs)\n",
        "                    _, preds = torch.max(outputs, 1)\n",
        "                    loss = criterion(outputs, labels)\n",
        "\n",
        "                    # backward + optimize only if in training phase\n",
        "                    if phase == 'train':\n",
        "                        optimizer.zero_grad()\n",
        "                        loss.backward()\n",
        "                        optimizer.step()\n",
        "\n",
        "                # statistics\n",
        "                running_loss += loss.item() * inputs.size(0)\n",
        "                running_corrects += torch.sum(preds == labels.data)\n",
        "\n",
        "            epoch_loss = running_loss / dataset_sizes[phase]\n",
        "            epoch_acc = running_corrects.double() / dataset_sizes[phase]\n",
        "\n",
        "            if phase == 'train':\n",
        "                scheduler.step()\n",
        "                train_hist.append([epoch_loss, epoch_acc])\n",
        "                print('{} Loss: {:.4f} Accuracy: {:.4f}'.format(\n",
        "                    'Train', epoch_loss, epoch_acc), end = \" | \")\n",
        "            else:\n",
        "                validation_hist.append([epoch_loss, epoch_acc])\n",
        "                print('{} Loss: {:.4f} Accuracy: {:.4f}'.format(\n",
        "                    'Valid', epoch_loss, epoch_acc), end = \" | \")\n",
        "                if epoch_acc > best_acc:\n",
        "                  # deep copy the model\n",
        "                  best_acc = epoch_acc\n",
        "                  best_model_weights = copy.deepcopy(model.state_dict())    \n",
        "        time_epoch = time.time() - epoch_start_time\n",
        "        print('{:.0f}m {:.0f}s'.format(time_epoch // 60, time_epoch % 60))\n",
        "        time_hist.append(time_epoch)\n",
        "    time_elapsed = time.time() - since\n",
        "    print('Training complete in {:.0f}m {:.0f}s'.format(time_elapsed // 60, time_elapsed % 60))\n",
        "    print('Best Validation Accuracy: {:4f}'.format(best_acc))\n",
        "\n",
        "    # load best model weights\n",
        "    model.load_state_dict(best_model_weights)\n",
        "    return model, train_hist, validation_hist, time_hist"
      ],
      "execution_count": null,
      "outputs": []
    },
    {
      "cell_type": "markdown",
      "metadata": {
        "id": "8JCTUpQd_2s_"
      },
      "source": [
        "**Plot data**\n",
        "\n",
        "In this section, we write a function to plot historical data of loss and accuracy."
      ]
    },
    {
      "cell_type": "code",
      "metadata": {
        "id": "eqf3Looo9dkD"
      },
      "source": [
        "def plot_stat(epochs, train_hist, validation_hist):\n",
        "  plt.plot(range(1, epochs + 1), np.array(train_hist)[:, 1], color = 'y', label = 'Training acc')\n",
        "  plt.plot(range(1, epochs + 1), np.array(validation_hist)[:, 1], color = 'r', label = 'Validation acc')\n",
        "  plt.title('Training and validation accuracy')\n",
        "  plt.xlabel('Epochs')\n",
        "  plt.ylabel('Accuracy')\n",
        "  plt.legend()\n",
        "  plt.show()\n",
        "\n",
        "  plt.plot(range(1, epochs + 1), np.array(train_hist)[:, 0], color = 'y', label = 'Training loss')\n",
        "  plt.plot(range(1, epochs + 1), np.array(validation_hist)[:, 0], color = 'r', label = 'Validation loss')\n",
        "  plt.title('Training and validation loss')\n",
        "  plt.xlabel('Epochs')\n",
        "  plt.ylabel('Loss')\n",
        "  plt.legend()\n",
        "  plt.show()"
      ],
      "execution_count": null,
      "outputs": []
    },
    {
      "cell_type": "markdown",
      "metadata": {
        "id": "JbxHxWdA_gk2"
      },
      "source": [
        "#**Model 1:  Resnet-18**\n",
        "Let us now load, train  and evaluate our first model, a pretrained ResNet-18 model."
      ]
    },
    {
      "cell_type": "code",
      "metadata": {
        "id": "fEMb_Wm8ZMQs",
        "colab": {
          "base_uri": "https://localhost:8080/",
          "height": 1000
        },
        "outputId": "05134d31-0e23-4662-c85c-0e4fc66237ad"
      },
      "source": [
        "# Load a pretrained model and reset final fully connected layer.\n",
        "model = timm.create_model('resnet18', pretrained = True)\n",
        "num_ftrs = model.fc.in_features\n",
        "\n",
        "# Here the size of each output sample is set to 10.\n",
        "num_output = 10\n",
        "model.fc = nn.Linear(num_ftrs, num_output)\n",
        "\n",
        "model = model.to(device)\n",
        "\n",
        "criterion = nn.CrossEntropyLoss()\n",
        "optimizer = optim.SGD(model.parameters(), lr = 0.001)\n",
        "step_lr_scheduler = lr_scheduler.StepLR(optimizer, step_size = 10, gamma = 0.1)\n",
        "\n",
        "epochs = 100\n",
        "model, train_hist, validation_hist, time_hist = train_model(model, criterion, optimizer, step_lr_scheduler, num_epochs = epochs)\n",
        "plot_stat(epochs, train_hist, validation_hist)"
      ],
      "execution_count": null,
      "outputs": [
        {
          "output_type": "stream",
          "text": [
            "Epoch 1/100 | Train Loss: 1.9793 Accuracy: 0.3104 | Valid Loss: 1.6468 Accuracy: 0.4330 | 0m 39s\n",
            "Epoch 2/100 | Train Loss: 1.4022 Accuracy: 0.5227 | Valid Loss: 1.2031 Accuracy: 0.5975 | 0m 40s\n",
            "Epoch 3/100 | Train Loss: 1.0581 Accuracy: 0.6414 | Valid Loss: 0.9369 Accuracy: 0.6885 | 0m 40s\n",
            "Epoch 4/100 | Train Loss: 0.8594 Accuracy: 0.7106 | Valid Loss: 0.7952 Accuracy: 0.7362 | 0m 40s\n",
            "Epoch 5/100 | Train Loss: 0.7312 Accuracy: 0.7566 | Valid Loss: 0.6933 Accuracy: 0.7720 | 0m 40s\n",
            "Epoch 6/100 | Train Loss: 0.6432 Accuracy: 0.7853 | Valid Loss: 0.6204 Accuracy: 0.7968 | 0m 40s\n",
            "Epoch 7/100 | Train Loss: 0.5769 Accuracy: 0.8100 | Valid Loss: 0.5750 Accuracy: 0.8135 | 0m 41s\n",
            "Epoch 8/100 | Train Loss: 0.5283 Accuracy: 0.8274 | Valid Loss: 0.5401 Accuracy: 0.8244 | 0m 41s\n",
            "Epoch 9/100 | Train Loss: 0.4842 Accuracy: 0.8428 | Valid Loss: 0.5069 Accuracy: 0.8383 | 0m 41s\n",
            "Epoch 10/100 | Train Loss: 0.4513 Accuracy: 0.8526 | Valid Loss: 0.4827 Accuracy: 0.8467 | 0m 41s\n",
            "Epoch 11/100 | Train Loss: 0.4256 Accuracy: 0.8619 | Valid Loss: 0.4817 Accuracy: 0.8459 | 0m 41s\n",
            "Epoch 12/100 | Train Loss: 0.4246 Accuracy: 0.8625 | Valid Loss: 0.4780 Accuracy: 0.8478 | 0m 41s\n",
            "Epoch 13/100 | Train Loss: 0.4207 Accuracy: 0.8635 | Valid Loss: 0.4756 Accuracy: 0.8477 | 0m 41s\n",
            "Epoch 14/100 | Train Loss: 0.4172 Accuracy: 0.8652 | Valid Loss: 0.4741 Accuracy: 0.8483 | 0m 41s\n",
            "Epoch 15/100 | Train Loss: 0.4141 Accuracy: 0.8659 | Valid Loss: 0.4755 Accuracy: 0.8503 | 0m 41s\n",
            "Epoch 16/100 | Train Loss: 0.4118 Accuracy: 0.8669 | Valid Loss: 0.4698 Accuracy: 0.8510 | 0m 41s\n",
            "Epoch 17/100 | Train Loss: 0.4085 Accuracy: 0.8679 | Valid Loss: 0.4685 Accuracy: 0.8506 | 0m 41s\n",
            "Epoch 18/100 | Train Loss: 0.4039 Accuracy: 0.8691 | Valid Loss: 0.4692 Accuracy: 0.8508 | 0m 41s\n",
            "Epoch 19/100 | Train Loss: 0.4051 Accuracy: 0.8688 | Valid Loss: 0.4680 Accuracy: 0.8508 | 0m 41s\n",
            "Epoch 20/100 | Train Loss: 0.4021 Accuracy: 0.8692 | Valid Loss: 0.4622 Accuracy: 0.8532 | 0m 41s\n",
            "Epoch 21/100 | Train Loss: 0.3983 Accuracy: 0.8711 | Valid Loss: 0.4625 Accuracy: 0.8535 | 0m 41s\n",
            "Epoch 22/100 | Train Loss: 0.3993 Accuracy: 0.8715 | Valid Loss: 0.4648 Accuracy: 0.8531 | 0m 41s\n",
            "Epoch 23/100 | Train Loss: 0.3985 Accuracy: 0.8712 | Valid Loss: 0.4638 Accuracy: 0.8519 | 0m 41s\n",
            "Epoch 24/100 | Train Loss: 0.3962 Accuracy: 0.8723 | Valid Loss: 0.4645 Accuracy: 0.8519 | 0m 41s\n",
            "Epoch 25/100 | Train Loss: 0.3967 Accuracy: 0.8713 | Valid Loss: 0.4639 Accuracy: 0.8532 | 0m 41s\n",
            "Epoch 26/100 | Train Loss: 0.3968 Accuracy: 0.8720 | Valid Loss: 0.4626 Accuracy: 0.8541 | 0m 41s\n",
            "Epoch 27/100 | Train Loss: 0.3961 Accuracy: 0.8730 | Valid Loss: 0.4611 Accuracy: 0.8531 | 0m 41s\n",
            "Epoch 28/100 | Train Loss: 0.3949 Accuracy: 0.8722 | Valid Loss: 0.4607 Accuracy: 0.8536 | 0m 41s\n",
            "Epoch 29/100 | Train Loss: 0.3959 Accuracy: 0.8718 | Valid Loss: 0.4628 Accuracy: 0.8530 | 0m 41s\n",
            "Epoch 30/100 | Train Loss: 0.3945 Accuracy: 0.8724 | Valid Loss: 0.4619 Accuracy: 0.8537 | 0m 41s\n",
            "Epoch 31/100 | Train Loss: 0.3977 Accuracy: 0.8717 | Valid Loss: 0.4615 Accuracy: 0.8530 | 0m 41s\n",
            "Epoch 32/100 | Train Loss: 0.3962 Accuracy: 0.8724 | Valid Loss: 0.4647 Accuracy: 0.8526 | 0m 41s\n",
            "Epoch 33/100 | Train Loss: 0.3978 Accuracy: 0.8723 | Valid Loss: 0.4639 Accuracy: 0.8521 | 0m 41s\n",
            "Epoch 34/100 | Train Loss: 0.3989 Accuracy: 0.8716 | Valid Loss: 0.4640 Accuracy: 0.8531 | 0m 41s\n",
            "Epoch 35/100 | Train Loss: 0.3939 Accuracy: 0.8727 | Valid Loss: 0.4600 Accuracy: 0.8548 | 0m 40s\n",
            "Epoch 36/100 | Train Loss: 0.3970 Accuracy: 0.8712 | Valid Loss: 0.4629 Accuracy: 0.8532 | 0m 40s\n",
            "Epoch 37/100 | Train Loss: 0.3956 Accuracy: 0.8728 | Valid Loss: 0.4607 Accuracy: 0.8528 | 0m 40s\n",
            "Epoch 38/100 | Train Loss: 0.3957 Accuracy: 0.8730 | Valid Loss: 0.4588 Accuracy: 0.8551 | 0m 41s\n",
            "Epoch 39/100 | Train Loss: 0.3975 Accuracy: 0.8710 | Valid Loss: 0.4621 Accuracy: 0.8530 | 0m 41s\n",
            "Epoch 40/100 | Train Loss: 0.3948 Accuracy: 0.8718 | Valid Loss: 0.4611 Accuracy: 0.8544 | 0m 40s\n",
            "Epoch 41/100 | Train Loss: 0.3953 Accuracy: 0.8724 | Valid Loss: 0.4656 Accuracy: 0.8527 | 0m 40s\n",
            "Epoch 42/100 | Train Loss: 0.3949 Accuracy: 0.8718 | Valid Loss: 0.4602 Accuracy: 0.8553 | 0m 40s\n",
            "Epoch 43/100 | Train Loss: 0.3948 Accuracy: 0.8713 | Valid Loss: 0.4615 Accuracy: 0.8541 | 0m 40s\n",
            "Epoch 44/100 | Train Loss: 0.3945 Accuracy: 0.8732 | Valid Loss: 0.4598 Accuracy: 0.8536 | 0m 40s\n",
            "Epoch 45/100 | Train Loss: 0.3970 Accuracy: 0.8714 | Valid Loss: 0.4666 Accuracy: 0.8531 | 0m 40s\n",
            "Epoch 46/100 | Train Loss: 0.3941 Accuracy: 0.8725 | Valid Loss: 0.4628 Accuracy: 0.8533 | 0m 40s\n",
            "Epoch 47/100 | Train Loss: 0.3952 Accuracy: 0.8719 | Valid Loss: 0.4618 Accuracy: 0.8536 | 0m 40s\n",
            "Epoch 48/100 | Train Loss: 0.3952 Accuracy: 0.8727 | Valid Loss: 0.4584 Accuracy: 0.8536 | 0m 40s\n",
            "Epoch 49/100 | Train Loss: 0.3956 Accuracy: 0.8726 | Valid Loss: 0.4668 Accuracy: 0.8524 | 0m 40s\n",
            "Epoch 50/100 | Train Loss: 0.3939 Accuracy: 0.8726 | Valid Loss: 0.4633 Accuracy: 0.8527 | 0m 40s\n",
            "Epoch 51/100 | Train Loss: 0.3964 Accuracy: 0.8717 | Valid Loss: 0.4587 Accuracy: 0.8539 | 0m 40s\n",
            "Epoch 52/100 | Train Loss: 0.3932 Accuracy: 0.8736 | Valid Loss: 0.4612 Accuracy: 0.8537 | 0m 40s\n",
            "Epoch 53/100 | Train Loss: 0.3955 Accuracy: 0.8720 | Valid Loss: 0.4626 Accuracy: 0.8531 | 0m 40s\n",
            "Epoch 54/100 | Train Loss: 0.3956 Accuracy: 0.8718 | Valid Loss: 0.4606 Accuracy: 0.8549 | 0m 41s\n",
            "Epoch 55/100 | Train Loss: 0.3958 Accuracy: 0.8722 | Valid Loss: 0.4625 Accuracy: 0.8537 | 0m 40s\n",
            "Epoch 56/100 | Train Loss: 0.3954 Accuracy: 0.8718 | Valid Loss: 0.4589 Accuracy: 0.8547 | 0m 40s\n",
            "Epoch 57/100 | Train Loss: 0.3967 Accuracy: 0.8716 | Valid Loss: 0.4618 Accuracy: 0.8538 | 0m 40s\n",
            "Epoch 58/100 | Train Loss: 0.3959 Accuracy: 0.8716 | Valid Loss: 0.4631 Accuracy: 0.8534 | 0m 40s\n",
            "Epoch 59/100 | Train Loss: 0.3955 Accuracy: 0.8715 | Valid Loss: 0.4606 Accuracy: 0.8552 | 0m 40s\n",
            "Epoch 60/100 | Train Loss: 0.3972 Accuracy: 0.8722 | Valid Loss: 0.4627 Accuracy: 0.8538 | 0m 40s\n",
            "Epoch 61/100 | Train Loss: 0.3954 Accuracy: 0.8723 | Valid Loss: 0.4631 Accuracy: 0.8545 | 0m 40s\n",
            "Epoch 62/100 | Train Loss: 0.3993 Accuracy: 0.8698 | Valid Loss: 0.4594 Accuracy: 0.8545 | 0m 40s\n",
            "Epoch 63/100 | Train Loss: 0.3948 Accuracy: 0.8723 | Valid Loss: 0.4611 Accuracy: 0.8539 | 0m 40s\n",
            "Epoch 64/100 | Train Loss: 0.3949 Accuracy: 0.8721 | Valid Loss: 0.4632 Accuracy: 0.8533 | 0m 40s\n",
            "Epoch 65/100 | Train Loss: 0.3939 Accuracy: 0.8729 | Valid Loss: 0.4609 Accuracy: 0.8534 | 0m 40s\n",
            "Epoch 66/100 | Train Loss: 0.3954 Accuracy: 0.8724 | Valid Loss: 0.4583 Accuracy: 0.8559 | 0m 40s\n",
            "Epoch 67/100 | Train Loss: 0.3962 Accuracy: 0.8714 | Valid Loss: 0.4627 Accuracy: 0.8539 | 0m 40s\n",
            "Epoch 68/100 | Train Loss: 0.3948 Accuracy: 0.8722 | Valid Loss: 0.4611 Accuracy: 0.8533 | 0m 40s\n",
            "Epoch 69/100 | Train Loss: 0.3980 Accuracy: 0.8720 | Valid Loss: 0.4616 Accuracy: 0.8543 | 0m 40s\n",
            "Epoch 70/100 | Train Loss: 0.3960 Accuracy: 0.8719 | Valid Loss: 0.4646 Accuracy: 0.8532 | 0m 40s\n",
            "Epoch 71/100 | Train Loss: 0.3937 Accuracy: 0.8730 | Valid Loss: 0.4636 Accuracy: 0.8527 | 0m 40s\n",
            "Epoch 72/100 | Train Loss: 0.3955 Accuracy: 0.8724 | Valid Loss: 0.4607 Accuracy: 0.8542 | 0m 40s\n",
            "Epoch 73/100 | Train Loss: 0.3950 Accuracy: 0.8725 | Valid Loss: 0.4613 Accuracy: 0.8551 | 0m 40s\n",
            "Epoch 74/100 | Train Loss: 0.3974 Accuracy: 0.8721 | Valid Loss: 0.4592 Accuracy: 0.8544 | 0m 40s\n",
            "Epoch 75/100 | Train Loss: 0.3963 Accuracy: 0.8713 | Valid Loss: 0.4620 Accuracy: 0.8535 | 0m 40s\n",
            "Epoch 76/100 | Train Loss: 0.3951 Accuracy: 0.8714 | Valid Loss: 0.4630 Accuracy: 0.8527 | 0m 40s\n",
            "Epoch 77/100 | Train Loss: 0.3956 Accuracy: 0.8722 | Valid Loss: 0.4595 Accuracy: 0.8548 | 0m 40s\n",
            "Epoch 78/100 | Train Loss: 0.3958 Accuracy: 0.8727 | Valid Loss: 0.4608 Accuracy: 0.8548 | 0m 40s\n",
            "Epoch 79/100 | Train Loss: 0.3975 Accuracy: 0.8713 | Valid Loss: 0.4623 Accuracy: 0.8528 | 0m 40s\n",
            "Epoch 80/100 | Train Loss: 0.3963 Accuracy: 0.8727 | Valid Loss: 0.4583 Accuracy: 0.8546 | 0m 40s\n",
            "Epoch 81/100 | Train Loss: 0.3968 Accuracy: 0.8719 | Valid Loss: 0.4640 Accuracy: 0.8533 | 0m 40s\n",
            "Epoch 82/100 | Train Loss: 0.3923 Accuracy: 0.8734 | Valid Loss: 0.4625 Accuracy: 0.8535 | 0m 41s\n",
            "Epoch 83/100 | Train Loss: 0.3956 Accuracy: 0.8714 | Valid Loss: 0.4629 Accuracy: 0.8546 | 0m 40s\n",
            "Epoch 84/100 | Train Loss: 0.3947 Accuracy: 0.8727 | Valid Loss: 0.4654 Accuracy: 0.8535 | 0m 41s\n",
            "Epoch 85/100 | Train Loss: 0.3961 Accuracy: 0.8719 | Valid Loss: 0.4631 Accuracy: 0.8531 | 0m 41s\n",
            "Epoch 86/100 | Train Loss: 0.3962 Accuracy: 0.8718 | Valid Loss: 0.4627 Accuracy: 0.8515 | 0m 41s\n",
            "Epoch 87/100 | Train Loss: 0.3992 Accuracy: 0.8709 | Valid Loss: 0.4657 Accuracy: 0.8519 | 0m 41s\n",
            "Epoch 88/100 | Train Loss: 0.3948 Accuracy: 0.8732 | Valid Loss: 0.4640 Accuracy: 0.8531 | 0m 41s\n",
            "Epoch 89/100 | Train Loss: 0.3938 Accuracy: 0.8727 | Valid Loss: 0.4614 Accuracy: 0.8534 | 0m 41s\n",
            "Epoch 90/100 | Train Loss: 0.3972 Accuracy: 0.8719 | Valid Loss: 0.4600 Accuracy: 0.8536 | 0m 41s\n",
            "Epoch 91/100 | Train Loss: 0.3964 Accuracy: 0.8720 | Valid Loss: 0.4601 Accuracy: 0.8543 | 0m 41s\n",
            "Epoch 92/100 | Train Loss: 0.3960 Accuracy: 0.8722 | Valid Loss: 0.4628 Accuracy: 0.8541 | 0m 41s\n",
            "Epoch 93/100 | Train Loss: 0.3963 Accuracy: 0.8720 | Valid Loss: 0.4619 Accuracy: 0.8537 | 0m 41s\n",
            "Epoch 94/100 | Train Loss: 0.3976 Accuracy: 0.8716 | Valid Loss: 0.4582 Accuracy: 0.8543 | 0m 41s\n",
            "Epoch 95/100 | Train Loss: 0.3935 Accuracy: 0.8728 | Valid Loss: 0.4592 Accuracy: 0.8546 | 0m 42s\n",
            "Epoch 96/100 | Train Loss: 0.3982 Accuracy: 0.8720 | Valid Loss: 0.4620 Accuracy: 0.8546 | 0m 41s\n",
            "Epoch 97/100 | Train Loss: 0.3944 Accuracy: 0.8729 | Valid Loss: 0.4597 Accuracy: 0.8545 | 0m 41s\n",
            "Epoch 98/100 | Train Loss: 0.3942 Accuracy: 0.8718 | Valid Loss: 0.4586 Accuracy: 0.8546 | 0m 41s\n",
            "Epoch 99/100 | Train Loss: 0.3941 Accuracy: 0.8723 | Valid Loss: 0.4585 Accuracy: 0.8544 | 0m 41s\n",
            "Epoch 100/100 | Train Loss: 0.3975 Accuracy: 0.8712 | Valid Loss: 0.4601 Accuracy: 0.8539 | 0m 41s\n",
            "Training complete in 67m 29s\n",
            "Best Validation Accuracy: 0.855870\n"
          ],
          "name": "stdout"
        },
        {
          "output_type": "display_data",
          "data": {
            "image/png": "[encoded data removed]",
            "text/plain": [
              "<Figure size 432x288 with 1 Axes>"
            ]
          },
          "metadata": {
            "tags": [],
            "needs_background": "light"
          }
        },
        {
          "output_type": "display_data",
          "data": {
            "image/png": "[encoded data removed]",
            "text/plain": [
              "<Figure size 432x288 with 1 Axes>"
            ]
          },
          "metadata": {
            "tags": [],
            "needs_background": "light"
          }
        }
      ]
    },
    {
      "cell_type": "code",
      "metadata": {
        "colab": {
          "base_uri": "https://localhost:8080/",
          "height": 1000
        },
        "id": "8UGpgSWYaGzh",
        "outputId": "efc8c279-f807-4d3a-bfb3-b65b375b9991"
      },
      "source": [
        "# Load a pretrained model and reset final fully connected layer.\n",
        "model = timm.create_model('resnet18', pretrained = True)\n",
        "num_ftrs = model.fc.in_features\n",
        "\n",
        "# Here the size of each output sample is set to 10.\n",
        "num_output = 10\n",
        "model.fc = nn.Linear(num_ftrs, num_output)\n",
        "\n",
        "model = model.to(device)\n",
        "\n",
        "criterion = nn.CrossEntropyLoss()\n",
        "\n",
        "optimizer = optim.SGD(model.parameters(), lr = 0.001)\n",
        "# Decay LR by a factor of 0.1 every 20 epochs\n",
        "step_lr_scheduler = lr_scheduler.StepLR(optimizer, step_size = 20, gamma = 0.1)\n",
        "\n",
        "epochs = 100\n",
        "model, train_hist, validation_hist, time_hist = train_model(model, criterion, optimizer, step_lr_scheduler, num_epochs = epochs)\n",
        "plot_stat(epochs, train_hist, validation_hist)"
      ],
      "execution_count": null,
      "outputs": [
        {
          "output_type": "stream",
          "text": [
            "Epoch 1/100 | Train Loss: 1.9870 Accuracy: 0.3037 | Valid Loss: 1.6712 Accuracy: 0.4226 | 0m 41s\n",
            "Epoch 2/100 | Train Loss: 1.4180 Accuracy: 0.5168 | Valid Loss: 1.2303 Accuracy: 0.5869 | 0m 41s\n",
            "Epoch 3/100 | Train Loss: 1.0656 Accuracy: 0.6388 | Valid Loss: 0.9560 Accuracy: 0.6811 | 0m 41s\n",
            "Epoch 4/100 | Train Loss: 0.8608 Accuracy: 0.7093 | Valid Loss: 0.7966 Accuracy: 0.7357 | 0m 41s\n",
            "Epoch 5/100 | Train Loss: 0.7336 Accuracy: 0.7545 | Valid Loss: 0.6960 Accuracy: 0.7736 | 0m 41s\n",
            "Epoch 6/100 | Train Loss: 0.6448 Accuracy: 0.7845 | Valid Loss: 0.6312 Accuracy: 0.7949 | 0m 41s\n",
            "Epoch 7/100 | Train Loss: 0.5780 Accuracy: 0.8101 | Valid Loss: 0.5782 Accuracy: 0.8133 | 0m 41s\n",
            "Epoch 8/100 | Train Loss: 0.5246 Accuracy: 0.8262 | Valid Loss: 0.5415 Accuracy: 0.8268 | 0m 41s\n",
            "Epoch 9/100 | Train Loss: 0.4851 Accuracy: 0.8414 | Valid Loss: 0.5081 Accuracy: 0.8374 | 0m 41s\n",
            "Epoch 10/100 | Train Loss: 0.4514 Accuracy: 0.8541 | Valid Loss: 0.4820 Accuracy: 0.8471 | 0m 41s\n",
            "Epoch 11/100 | Train Loss: 0.4218 Accuracy: 0.8638 | Valid Loss: 0.4653 Accuracy: 0.8534 | 0m 41s\n",
            "Epoch 12/100 | Train Loss: 0.3944 Accuracy: 0.8738 | Valid Loss: 0.4501 Accuracy: 0.8593 | 0m 41s\n",
            "Epoch 13/100 | Train Loss: 0.3733 Accuracy: 0.8806 | Valid Loss: 0.4340 Accuracy: 0.8637 | 0m 41s\n",
            "Epoch 14/100 | Train Loss: 0.3532 Accuracy: 0.8873 | Valid Loss: 0.4244 Accuracy: 0.8685 | 0m 41s\n",
            "Epoch 15/100 | Train Loss: 0.3347 Accuracy: 0.8928 | Valid Loss: 0.4182 Accuracy: 0.8703 | 0m 41s\n",
            "Epoch 16/100 | Train Loss: 0.3166 Accuracy: 0.8989 | Valid Loss: 0.4123 Accuracy: 0.8723 | 0m 41s\n",
            "Epoch 17/100 | Train Loss: 0.3041 Accuracy: 0.9027 | Valid Loss: 0.4035 Accuracy: 0.8758 | 0m 41s\n",
            "Epoch 18/100 | Train Loss: 0.2911 Accuracy: 0.9063 | Valid Loss: 0.3994 Accuracy: 0.8775 | 0m 41s\n",
            "Epoch 19/100 | Train Loss: 0.2751 Accuracy: 0.9131 | Valid Loss: 0.3972 Accuracy: 0.8786 | 0m 41s\n",
            "Epoch 20/100 | Train Loss: 0.2627 Accuracy: 0.9164 | Valid Loss: 0.3915 Accuracy: 0.8808 | 0m 41s\n",
            "Epoch 21/100 | Train Loss: 0.2490 Accuracy: 0.9212 | Valid Loss: 0.3900 Accuracy: 0.8817 | 0m 41s\n",
            "Epoch 22/100 | Train Loss: 0.2477 Accuracy: 0.9219 | Valid Loss: 0.3918 Accuracy: 0.8816 | 0m 40s\n",
            "Epoch 23/100 | Train Loss: 0.2454 Accuracy: 0.9235 | Valid Loss: 0.3893 Accuracy: 0.8825 | 0m 41s\n",
            "Epoch 24/100 | Train Loss: 0.2444 Accuracy: 0.9227 | Valid Loss: 0.3931 Accuracy: 0.8808 | 0m 41s\n",
            "Epoch 25/100 | Train Loss: 0.2417 Accuracy: 0.9238 | Valid Loss: 0.3959 Accuracy: 0.8802 | 0m 41s\n",
            "Epoch 26/100 | Train Loss: 0.2401 Accuracy: 0.9243 | Valid Loss: 0.3905 Accuracy: 0.8823 | 0m 41s\n",
            "Epoch 27/100 | Train Loss: 0.2397 Accuracy: 0.9248 | Valid Loss: 0.3901 Accuracy: 0.8823 | 0m 41s\n",
            "Epoch 28/100 | Train Loss: 0.2402 Accuracy: 0.9236 | Valid Loss: 0.3878 Accuracy: 0.8834 | 0m 41s\n",
            "Epoch 29/100 | Train Loss: 0.2402 Accuracy: 0.9241 | Valid Loss: 0.3892 Accuracy: 0.8837 | 0m 41s\n",
            "Epoch 30/100 | Train Loss: 0.2367 Accuracy: 0.9262 | Valid Loss: 0.3902 Accuracy: 0.8824 | 0m 41s\n",
            "Epoch 31/100 | Train Loss: 0.2363 Accuracy: 0.9258 | Valid Loss: 0.3884 Accuracy: 0.8838 | 0m 41s\n",
            "Epoch 32/100 | Train Loss: 0.2322 Accuracy: 0.9273 | Valid Loss: 0.3905 Accuracy: 0.8823 | 0m 41s\n",
            "Epoch 33/100 | Train Loss: 0.2335 Accuracy: 0.9268 | Valid Loss: 0.3899 Accuracy: 0.8831 | 0m 40s\n",
            "Epoch 34/100 | Train Loss: 0.2329 Accuracy: 0.9266 | Valid Loss: 0.3894 Accuracy: 0.8838 | 0m 40s\n",
            "Epoch 35/100 | Train Loss: 0.2319 Accuracy: 0.9272 | Valid Loss: 0.3905 Accuracy: 0.8832 | 0m 41s\n",
            "Epoch 36/100 | Train Loss: 0.2282 Accuracy: 0.9288 | Valid Loss: 0.3878 Accuracy: 0.8839 | 0m 41s\n",
            "Epoch 37/100 | Train Loss: 0.2295 Accuracy: 0.9274 | Valid Loss: 0.3880 Accuracy: 0.8834 | 0m 40s\n",
            "Epoch 38/100 | Train Loss: 0.2270 Accuracy: 0.9296 | Valid Loss: 0.3851 Accuracy: 0.8851 | 0m 40s\n",
            "Epoch 39/100 | Train Loss: 0.2279 Accuracy: 0.9290 | Valid Loss: 0.3900 Accuracy: 0.8818 | 0m 40s\n",
            "Epoch 40/100 | Train Loss: 0.2233 Accuracy: 0.9297 | Valid Loss: 0.3898 Accuracy: 0.8835 | 0m 40s\n",
            "Epoch 41/100 | Train Loss: 0.2238 Accuracy: 0.9295 | Valid Loss: 0.3898 Accuracy: 0.8831 | 0m 40s\n",
            "Epoch 42/100 | Train Loss: 0.2257 Accuracy: 0.9291 | Valid Loss: 0.3912 Accuracy: 0.8838 | 0m 40s\n",
            "Epoch 43/100 | Train Loss: 0.2236 Accuracy: 0.9296 | Valid Loss: 0.3871 Accuracy: 0.8851 | 0m 40s\n",
            "Epoch 44/100 | Train Loss: 0.2238 Accuracy: 0.9296 | Valid Loss: 0.3885 Accuracy: 0.8835 | 0m 40s\n",
            "Epoch 45/100 | Train Loss: 0.2238 Accuracy: 0.9301 | Valid Loss: 0.3892 Accuracy: 0.8824 | 0m 40s\n",
            "Epoch 46/100 | Train Loss: 0.2230 Accuracy: 0.9297 | Valid Loss: 0.3882 Accuracy: 0.8835 | 0m 40s\n",
            "Epoch 47/100 | Train Loss: 0.2258 Accuracy: 0.9295 | Valid Loss: 0.3863 Accuracy: 0.8840 | 0m 40s\n",
            "Epoch 48/100 | Train Loss: 0.2229 Accuracy: 0.9297 | Valid Loss: 0.3855 Accuracy: 0.8844 | 0m 40s\n",
            "Epoch 49/100 | Train Loss: 0.2231 Accuracy: 0.9302 | Valid Loss: 0.3870 Accuracy: 0.8849 | 0m 40s\n",
            "Epoch 50/100 | Train Loss: 0.2228 Accuracy: 0.9297 | Valid Loss: 0.3861 Accuracy: 0.8844 | 0m 40s\n",
            "Epoch 51/100 | Train Loss: 0.2241 Accuracy: 0.9299 | Valid Loss: 0.3848 Accuracy: 0.8833 | 0m 40s\n",
            "Epoch 52/100 | Train Loss: 0.2227 Accuracy: 0.9304 | Valid Loss: 0.3897 Accuracy: 0.8836 | 0m 40s\n",
            "Epoch 53/100 | Train Loss: 0.2223 Accuracy: 0.9299 | Valid Loss: 0.3877 Accuracy: 0.8843 | 0m 40s\n",
            "Epoch 54/100 | Train Loss: 0.2245 Accuracy: 0.9302 | Valid Loss: 0.3881 Accuracy: 0.8833 | 0m 40s\n",
            "Epoch 55/100 | Train Loss: 0.2219 Accuracy: 0.9305 | Valid Loss: 0.3893 Accuracy: 0.8843 | 0m 40s\n",
            "Epoch 56/100 | Train Loss: 0.2227 Accuracy: 0.9310 | Valid Loss: 0.3926 Accuracy: 0.8827 | 0m 40s\n",
            "Epoch 57/100 | Train Loss: 0.2228 Accuracy: 0.9304 | Valid Loss: 0.3881 Accuracy: 0.8837 | 0m 40s\n",
            "Epoch 58/100 | Train Loss: 0.2243 Accuracy: 0.9291 | Valid Loss: 0.3890 Accuracy: 0.8828 | 0m 40s\n",
            "Epoch 59/100 | Train Loss: 0.2230 Accuracy: 0.9308 | Valid Loss: 0.3884 Accuracy: 0.8843 | 0m 40s\n",
            "Epoch 60/100 | Train Loss: 0.2207 Accuracy: 0.9310 | Valid Loss: 0.3874 Accuracy: 0.8837 | 0m 40s\n",
            "Epoch 61/100 | Train Loss: 0.2219 Accuracy: 0.9307 | Valid Loss: 0.3862 Accuracy: 0.8840 | 0m 40s\n",
            "Epoch 62/100 | Train Loss: 0.2214 Accuracy: 0.9308 | Valid Loss: 0.3870 Accuracy: 0.8838 | 0m 40s\n",
            "Epoch 63/100 | Train Loss: 0.2234 Accuracy: 0.9300 | Valid Loss: 0.3901 Accuracy: 0.8832 | 0m 40s\n",
            "Epoch 64/100 | Train Loss: 0.2207 Accuracy: 0.9305 | Valid Loss: 0.3868 Accuracy: 0.8839 | 0m 40s\n",
            "Epoch 65/100 | Train Loss: 0.2226 Accuracy: 0.9302 | Valid Loss: 0.3870 Accuracy: 0.8840 | 0m 40s\n",
            "Epoch 66/100 | Train Loss: 0.2236 Accuracy: 0.9303 | Valid Loss: 0.3892 Accuracy: 0.8835 | 0m 40s\n",
            "Epoch 67/100 | Train Loss: 0.2200 Accuracy: 0.9313 | Valid Loss: 0.3855 Accuracy: 0.8836 | 0m 40s\n",
            "Epoch 68/100 | Train Loss: 0.2214 Accuracy: 0.9312 | Valid Loss: 0.3904 Accuracy: 0.8836 | 0m 40s\n",
            "Epoch 69/100 | Train Loss: 0.2226 Accuracy: 0.9301 | Valid Loss: 0.4008 Accuracy: 0.8802 | 0m 40s\n",
            "Epoch 70/100 | Train Loss: 0.2225 Accuracy: 0.9304 | Valid Loss: 0.3850 Accuracy: 0.8850 | 0m 40s\n",
            "Epoch 71/100 | Train Loss: 0.2219 Accuracy: 0.9305 | Valid Loss: 0.3879 Accuracy: 0.8836 | 0m 40s\n",
            "Epoch 72/100 | Train Loss: 0.2224 Accuracy: 0.9297 | Valid Loss: 0.3903 Accuracy: 0.8833 | 0m 40s\n",
            "Epoch 73/100 | Train Loss: 0.2221 Accuracy: 0.9307 | Valid Loss: 0.3887 Accuracy: 0.8836 | 0m 40s\n",
            "Epoch 74/100 | Train Loss: 0.2221 Accuracy: 0.9314 | Valid Loss: 0.3882 Accuracy: 0.8840 | 0m 39s\n",
            "Epoch 75/100 | Train Loss: 0.2226 Accuracy: 0.9302 | Valid Loss: 0.3902 Accuracy: 0.8839 | 0m 39s\n",
            "Epoch 76/100 | Train Loss: 0.2212 Accuracy: 0.9310 | Valid Loss: 0.3921 Accuracy: 0.8840 | 0m 39s\n",
            "Epoch 77/100 | Train Loss: 0.2211 Accuracy: 0.9311 | Valid Loss: 0.3892 Accuracy: 0.8843 | 0m 39s\n",
            "Epoch 78/100 | Train Loss: 0.2216 Accuracy: 0.9304 | Valid Loss: 0.3864 Accuracy: 0.8839 | 0m 39s\n",
            "Epoch 79/100 | Train Loss: 0.2230 Accuracy: 0.9302 | Valid Loss: 0.3902 Accuracy: 0.8850 | 0m 40s\n",
            "Epoch 80/100 | Train Loss: 0.2219 Accuracy: 0.9300 | Valid Loss: 0.3847 Accuracy: 0.8840 | 0m 40s\n",
            "Epoch 81/100 | Train Loss: 0.2224 Accuracy: 0.9298 | Valid Loss: 0.3873 Accuracy: 0.8850 | 0m 40s\n",
            "Epoch 82/100 | Train Loss: 0.2207 Accuracy: 0.9309 | Valid Loss: 0.3909 Accuracy: 0.8843 | 0m 40s\n",
            "Epoch 83/100 | Train Loss: 0.2231 Accuracy: 0.9299 | Valid Loss: 0.3852 Accuracy: 0.8850 | 0m 40s\n",
            "Epoch 84/100 | Train Loss: 0.2232 Accuracy: 0.9299 | Valid Loss: 0.3885 Accuracy: 0.8831 | 0m 40s\n",
            "Epoch 85/100 | Train Loss: 0.2226 Accuracy: 0.9304 | Valid Loss: 0.3870 Accuracy: 0.8831 | 0m 40s\n",
            "Epoch 86/100 | Train Loss: 0.2221 Accuracy: 0.9305 | Valid Loss: 0.3903 Accuracy: 0.8830 | 0m 40s\n",
            "Epoch 87/100 | Train Loss: 0.2206 Accuracy: 0.9310 | Valid Loss: 0.3909 Accuracy: 0.8828 | 0m 40s\n",
            "Epoch 88/100 | Train Loss: 0.2226 Accuracy: 0.9302 | Valid Loss: 0.3903 Accuracy: 0.8844 | 0m 40s\n",
            "Epoch 89/100 | Train Loss: 0.2216 Accuracy: 0.9315 | Valid Loss: 0.3855 Accuracy: 0.8845 | 0m 40s\n",
            "Epoch 90/100 | Train Loss: 0.2198 Accuracy: 0.9314 | Valid Loss: 0.3904 Accuracy: 0.8831 | 0m 40s\n",
            "Epoch 91/100 | Train Loss: 0.2230 Accuracy: 0.9303 | Valid Loss: 0.3893 Accuracy: 0.8840 | 0m 39s\n",
            "Epoch 92/100 | Train Loss: 0.2216 Accuracy: 0.9302 | Valid Loss: 0.3872 Accuracy: 0.8842 | 0m 40s\n",
            "Epoch 93/100 | Train Loss: 0.2223 Accuracy: 0.9311 | Valid Loss: 0.3876 Accuracy: 0.8833 | 0m 40s\n",
            "Epoch 94/100 | Train Loss: 0.2209 Accuracy: 0.9312 | Valid Loss: 0.3911 Accuracy: 0.8842 | 0m 39s\n",
            "Epoch 95/100 | Train Loss: 0.2234 Accuracy: 0.9292 | Valid Loss: 0.3910 Accuracy: 0.8838 | 0m 40s\n",
            "Epoch 96/100 | Train Loss: 0.2190 Accuracy: 0.9320 | Valid Loss: 0.3878 Accuracy: 0.8829 | 0m 40s\n",
            "Epoch 97/100 | Train Loss: 0.2230 Accuracy: 0.9292 | Valid Loss: 0.3863 Accuracy: 0.8844 | 0m 40s\n",
            "Epoch 98/100 | Train Loss: 0.2227 Accuracy: 0.9300 | Valid Loss: 0.3894 Accuracy: 0.8838 | 0m 40s\n",
            "Epoch 99/100 | Train Loss: 0.2211 Accuracy: 0.9309 | Valid Loss: 0.3893 Accuracy: 0.8829 | 0m 40s\n",
            "Epoch 100/100 | Train Loss: 0.2233 Accuracy: 0.9301 | Valid Loss: 0.3869 Accuracy: 0.8838 | 0m 39s\n",
            "Training complete in 66m 59s\n",
            "Best Validation Accuracy: 0.885103\n"
          ],
          "name": "stdout"
        },
        {
          "output_type": "display_data",
          "data": {
            "image/png": "[encoded data removed]",
            "text/plain": [
              "<Figure size 432x288 with 1 Axes>"
            ]
          },
          "metadata": {
            "tags": [],
            "needs_background": "light"
          }
        },
        {
          "output_type": "display_data",
          "data": {
            "image/png": "[encoded data removed]",
            "text/plain": [
              "<Figure size 432x288 with 1 Axes>"
            ]
          },
          "metadata": {
            "tags": [],
            "needs_background": "light"
          }
        }
      ]
    },
    {
      "cell_type": "code",
      "metadata": {
        "colab": {
          "base_uri": "https://localhost:8080/",
          "height": 1000
        },
        "id": "BpP7hd4xsWau",
        "outputId": "da81292c-402b-47a2-f608-501232ea699b"
      },
      "source": [
        "# Load a pretrained model\n",
        "model_resnet18 = timm.create_model('resnet18', pretrained = True)\n",
        "\n",
        "# Reset final fully connected layer and change the output size to 10\n",
        "num_ftrs = model_resnet18.fc.in_features\n",
        "num_output = 10\n",
        "model_resnet18.fc = nn.Linear(num_ftrs, num_output)\n",
        "\n",
        "model_resnet18 = model_resnet18.to(device)\n",
        "\n",
        "# Use CrossEntropyLoss as criterion\n",
        "criterion = nn.CrossEntropyLoss()\n",
        "# Use SGD to optimize all parameters \n",
        "optimizer = optim.SGD(model_resnet18.parameters(), lr = 0.001)\n",
        "# Decay LR by a factor of 0.5 every 20 epochs\n",
        "step_lr_scheduler = lr_scheduler.StepLR(optimizer, step_size = 20, gamma = 0.5)\n",
        "\n",
        "epochs = 100\n",
        "model_resnet18, train_hist, validation_hist, time_hist = train_model(model_resnet18, criterion, optimizer, step_lr_scheduler, num_epochs = epochs)\n",
        "plot_stat(epochs, train_hist, validation_hist)"
      ],
      "execution_count": null,
      "outputs": [
        {
          "output_type": "stream",
          "text": [
            "Epoch 1/100 | Train Loss: 1.9620 Accuracy: 0.3169 | Valid Loss: 1.6432 Accuracy: 0.4395 | 0m 47s\n",
            "Epoch 2/100 | Train Loss: 1.3893 Accuracy: 0.5250 | Valid Loss: 1.1742 Accuracy: 0.6012 | 0m 47s\n",
            "Epoch 3/100 | Train Loss: 1.0572 Accuracy: 0.6406 | Valid Loss: 0.9581 Accuracy: 0.6780 | 0m 47s\n",
            "Epoch 4/100 | Train Loss: 0.8610 Accuracy: 0.7093 | Valid Loss: 0.8012 Accuracy: 0.7349 | 0m 47s\n",
            "Epoch 5/100 | Train Loss: 0.7333 Accuracy: 0.7533 | Valid Loss: 0.6990 Accuracy: 0.7692 | 0m 47s\n",
            "Epoch 6/100 | Train Loss: 0.6470 Accuracy: 0.7846 | Valid Loss: 0.6262 Accuracy: 0.7955 | 0m 47s\n",
            "Epoch 7/100 | Train Loss: 0.5819 Accuracy: 0.8070 | Valid Loss: 0.5848 Accuracy: 0.8105 | 0m 47s\n",
            "Epoch 8/100 | Train Loss: 0.5285 Accuracy: 0.8249 | Valid Loss: 0.5410 Accuracy: 0.8244 | 0m 47s\n",
            "Epoch 9/100 | Train Loss: 0.4890 Accuracy: 0.8396 | Valid Loss: 0.5134 Accuracy: 0.8365 | 0m 47s\n",
            "Epoch 10/100 | Train Loss: 0.4549 Accuracy: 0.8519 | Valid Loss: 0.4842 Accuracy: 0.8462 | 0m 47s\n",
            "Epoch 11/100 | Train Loss: 0.4242 Accuracy: 0.8617 | Valid Loss: 0.4712 Accuracy: 0.8511 | 0m 47s\n",
            "Epoch 12/100 | Train Loss: 0.3977 Accuracy: 0.8697 | Valid Loss: 0.4518 Accuracy: 0.8581 | 0m 47s\n",
            "Epoch 13/100 | Train Loss: 0.3765 Accuracy: 0.8773 | Valid Loss: 0.4367 Accuracy: 0.8636 | 0m 47s\n",
            "Epoch 14/100 | Train Loss: 0.3588 Accuracy: 0.8834 | Valid Loss: 0.4270 Accuracy: 0.8681 | 0m 47s\n",
            "Epoch 15/100 | Train Loss: 0.3366 Accuracy: 0.8913 | Valid Loss: 0.4180 Accuracy: 0.8706 | 0m 47s\n",
            "Epoch 16/100 | Train Loss: 0.3188 Accuracy: 0.8970 | Valid Loss: 0.4123 Accuracy: 0.8719 | 0m 47s\n",
            "Epoch 17/100 | Train Loss: 0.3069 Accuracy: 0.9019 | Valid Loss: 0.4089 Accuracy: 0.8743 | 0m 47s\n",
            "Epoch 18/100 | Train Loss: 0.2922 Accuracy: 0.9067 | Valid Loss: 0.4024 Accuracy: 0.8765 | 0m 48s\n",
            "Epoch 19/100 | Train Loss: 0.2796 Accuracy: 0.9110 | Valid Loss: 0.3992 Accuracy: 0.8777 | 0m 47s\n",
            "Epoch 20/100 | Train Loss: 0.2661 Accuracy: 0.9149 | Valid Loss: 0.3949 Accuracy: 0.8805 | 0m 47s\n",
            "Epoch 21/100 | Train Loss: 0.2531 Accuracy: 0.9200 | Valid Loss: 0.3938 Accuracy: 0.8803 | 0m 47s\n",
            "Epoch 22/100 | Train Loss: 0.2464 Accuracy: 0.9224 | Valid Loss: 0.3902 Accuracy: 0.8820 | 0m 47s\n",
            "Epoch 23/100 | Train Loss: 0.2417 Accuracy: 0.9237 | Valid Loss: 0.3935 Accuracy: 0.8803 | 0m 47s\n",
            "Epoch 24/100 | Train Loss: 0.2357 Accuracy: 0.9251 | Valid Loss: 0.3909 Accuracy: 0.8816 | 0m 47s\n",
            "Epoch 25/100 | Train Loss: 0.2279 Accuracy: 0.9284 | Valid Loss: 0.3940 Accuracy: 0.8816 | 0m 47s\n",
            "Epoch 26/100 | Train Loss: 0.2271 Accuracy: 0.9278 | Valid Loss: 0.3910 Accuracy: 0.8833 | 0m 47s\n",
            "Epoch 27/100 | Train Loss: 0.2173 Accuracy: 0.9312 | Valid Loss: 0.3890 Accuracy: 0.8832 | 0m 47s\n",
            "Epoch 28/100 | Train Loss: 0.2134 Accuracy: 0.9320 | Valid Loss: 0.3914 Accuracy: 0.8840 | 0m 47s\n",
            "Epoch 29/100 | Train Loss: 0.2075 Accuracy: 0.9352 | Valid Loss: 0.3911 Accuracy: 0.8833 | 0m 47s\n",
            "Epoch 30/100 | Train Loss: 0.2034 Accuracy: 0.9358 | Valid Loss: 0.3910 Accuracy: 0.8847 | 0m 47s\n",
            "Epoch 31/100 | Train Loss: 0.1976 Accuracy: 0.9381 | Valid Loss: 0.3907 Accuracy: 0.8851 | 0m 47s\n",
            "Epoch 32/100 | Train Loss: 0.1934 Accuracy: 0.9388 | Valid Loss: 0.3916 Accuracy: 0.8845 | 0m 47s\n",
            "Epoch 33/100 | Train Loss: 0.1886 Accuracy: 0.9414 | Valid Loss: 0.3884 Accuracy: 0.8862 | 0m 47s\n",
            "Epoch 34/100 | Train Loss: 0.1860 Accuracy: 0.9416 | Valid Loss: 0.3880 Accuracy: 0.8867 | 0m 47s\n",
            "Epoch 35/100 | Train Loss: 0.1818 Accuracy: 0.9432 | Valid Loss: 0.3928 Accuracy: 0.8851 | 0m 47s\n",
            "Epoch 36/100 | "
          ],
          "name": "stdout"
        },
        {
          "output_type": "error",
          "ename": "KeyboardInterrupt",
          "evalue": "ignored",
          "traceback": [
            "\u001b[0;31m---------------------------------------------------------------------------\u001b[0m",
            "\u001b[0;31mKeyboardInterrupt\u001b[0m                         Traceback (most recent call last)",
            "\u001b[0;32m<ipython-input-7-639ad1dbe901>\u001b[0m in \u001b[0;36m<module>\u001b[0;34m()\u001b[0m\n\u001b[1;32m     17\u001b[0m \u001b[0;34m\u001b[0m\u001b[0m\n\u001b[1;32m     18\u001b[0m \u001b[0mepochs\u001b[0m \u001b[0;34m=\u001b[0m \u001b[0;36m100\u001b[0m\u001b[0;34m\u001b[0m\u001b[0;34m\u001b[0m\u001b[0m\n\u001b[0;32m---> 19\u001b[0;31m \u001b[0mmodel_resnet18\u001b[0m\u001b[0;34m,\u001b[0m \u001b[0mtrain_hist\u001b[0m\u001b[0;34m,\u001b[0m \u001b[0mvalidation_hist\u001b[0m\u001b[0;34m,\u001b[0m \u001b[0mtime_hist\u001b[0m \u001b[0;34m=\u001b[0m \u001b[0mtrain_model\u001b[0m\u001b[0;34m(\u001b[0m\u001b[0mmodel_resnet18\u001b[0m\u001b[0;34m,\u001b[0m \u001b[0mcriterion\u001b[0m\u001b[0;34m,\u001b[0m \u001b[0moptimizer\u001b[0m\u001b[0;34m,\u001b[0m \u001b[0mstep_lr_scheduler\u001b[0m\u001b[0;34m,\u001b[0m \u001b[0mnum_epochs\u001b[0m \u001b[0;34m=\u001b[0m \u001b[0mepochs\u001b[0m\u001b[0;34m)\u001b[0m\u001b[0;34m\u001b[0m\u001b[0;34m\u001b[0m\u001b[0m\n\u001b[0m\u001b[1;32m     20\u001b[0m \u001b[0mplot_stat\u001b[0m\u001b[0;34m(\u001b[0m\u001b[0mepochs\u001b[0m\u001b[0;34m,\u001b[0m \u001b[0mtrain_hist\u001b[0m\u001b[0;34m,\u001b[0m \u001b[0mvalidation_hist\u001b[0m\u001b[0;34m)\u001b[0m\u001b[0;34m\u001b[0m\u001b[0;34m\u001b[0m\u001b[0m\n",
            "\u001b[0;32m<ipython-input-4-b3fc8987b1be>\u001b[0m in \u001b[0;36mtrain_model\u001b[0;34m(model, criterion, optimizer, scheduler, num_epochs)\u001b[0m\n\u001b[1;32m     38\u001b[0m \u001b[0;34m\u001b[0m\u001b[0m\n\u001b[1;32m     39\u001b[0m                 \u001b[0;31m# statistics\u001b[0m\u001b[0;34m\u001b[0m\u001b[0;34m\u001b[0m\u001b[0;34m\u001b[0m\u001b[0m\n\u001b[0;32m---> 40\u001b[0;31m                 \u001b[0mrunning_loss\u001b[0m \u001b[0;34m+=\u001b[0m \u001b[0mloss\u001b[0m\u001b[0;34m.\u001b[0m\u001b[0mitem\u001b[0m\u001b[0;34m(\u001b[0m\u001b[0;34m)\u001b[0m \u001b[0;34m*\u001b[0m \u001b[0minputs\u001b[0m\u001b[0;34m.\u001b[0m\u001b[0msize\u001b[0m\u001b[0;34m(\u001b[0m\u001b[0;36m0\u001b[0m\u001b[0;34m)\u001b[0m\u001b[0;34m\u001b[0m\u001b[0;34m\u001b[0m\u001b[0m\n\u001b[0m\u001b[1;32m     41\u001b[0m                 \u001b[0mrunning_corrects\u001b[0m \u001b[0;34m+=\u001b[0m \u001b[0mtorch\u001b[0m\u001b[0;34m.\u001b[0m\u001b[0msum\u001b[0m\u001b[0;34m(\u001b[0m\u001b[0mpreds\u001b[0m \u001b[0;34m==\u001b[0m \u001b[0mlabels\u001b[0m\u001b[0;34m.\u001b[0m\u001b[0mdata\u001b[0m\u001b[0;34m)\u001b[0m\u001b[0;34m\u001b[0m\u001b[0;34m\u001b[0m\u001b[0m\n\u001b[1;32m     42\u001b[0m \u001b[0;34m\u001b[0m\u001b[0m\n",
            "\u001b[0;31mKeyboardInterrupt\u001b[0m: "
          ]
        }
      ]
    },
    {
      "cell_type": "code",
      "metadata": {
        "id": "DKsf6iLn8gvR",
        "colab": {
          "base_uri": "https://localhost:8080/"
        },
        "outputId": "ea861ead-486b-41ce-8f60-e595d604720d"
      },
      "source": [
        "# Load a pretrained model\n",
        "model_resnet18 = timm.create_model('resnet18', pretrained = True)\n",
        "\n",
        "# Reset final fully connected layer and change the output size to 10\n",
        "num_ftrs = model_resnet18.fc.in_features\n",
        "num_output = 10\n",
        "model_resnet18.fc = nn.Linear(num_ftrs, num_output)\n",
        "\n",
        "model_resnet18 = model_resnet18.to(device)\n",
        "\n",
        "# Use CrossEntropyLoss as criterion\n",
        "criterion = nn.CrossEntropyLoss()\n",
        "# Use SGD to optimize all parameters \n",
        "optimizer = optim.SGD(model_resnet18.parameters(), lr = 0.001)\n",
        "# Decay LR by a factor of 0.5 every 20 epochs\n",
        "step_lr_scheduler = lr_scheduler.StepLR(optimizer, step_size = 5, gamma = 0.1)\n",
        "\n",
        "epochs = 50\n",
        "model_resnet18, train_hist, validation_hist, time_hist = train_model(model_resnet18, criterion, optimizer, step_lr_scheduler, num_epochs = epochs)\n",
        "plot_stat(epochs, train_hist, validation_hist)"
      ],
      "execution_count": null,
      "outputs": [
        {
          "output_type": "stream",
          "text": [
            "Epoch 1/50 | Train Loss: 1.9823 Accuracy: 0.3094 | Valid Loss: 1.6429 Accuracy: 0.4403 | 0m 47s\n",
            "Epoch 2/50 | Train Loss: 1.4056 Accuracy: 0.5206 | Valid Loss: 1.2054 Accuracy: 0.5909 | 0m 47s\n",
            "Epoch 3/50 | Train Loss: 1.0614 Accuracy: 0.6410 | Valid Loss: 0.9446 Accuracy: 0.6864 | 0m 47s\n",
            "Epoch 4/50 | Train Loss: 0.8593 Accuracy: 0.7121 | Valid Loss: 0.7940 Accuracy: 0.7371 | 0m 47s\n",
            "Epoch 5/50 | Train Loss: 0.7352 Accuracy: 0.7545 | Valid Loss: 0.6954 Accuracy: 0.7702 | 0m 47s\n",
            "Epoch 6/50 | Train Loss: 0.6667 Accuracy: 0.7781 | Valid Loss: 0.6878 Accuracy: 0.7754 | 0m 47s\n",
            "Epoch 7/50 | Train Loss: 0.6589 Accuracy: 0.7802 | Valid Loss: 0.6781 Accuracy: 0.7772 | 0m 47s\n",
            "Epoch 8/50 | Train Loss: 0.6536 Accuracy: 0.7839 | Valid Loss: 0.6713 Accuracy: 0.7794 | 0m 47s\n",
            "Epoch 9/50 | Train Loss: 0.6418 Accuracy: 0.7867 | Valid Loss: 0.6693 Accuracy: 0.7812 | 0m 47s\n",
            "Epoch 10/50 | Train Loss: 0.6358 Accuracy: 0.7886 | Valid Loss: 0.6563 Accuracy: 0.7861 | 0m 47s\n",
            "Epoch 11/50 | Train Loss: 0.6301 Accuracy: 0.7907 | Valid Loss: 0.6581 Accuracy: 0.7848 | 0m 47s\n",
            "Epoch 12/50 | Train Loss: 0.6288 Accuracy: 0.7907 | Valid Loss: 0.6561 Accuracy: 0.7852 | 0m 47s\n",
            "Epoch 13/50 | Train Loss: 0.6293 Accuracy: 0.7916 | Valid Loss: 0.6550 Accuracy: 0.7856 | 0m 47s\n",
            "Epoch 14/50 | Train Loss: 0.6273 Accuracy: 0.7917 | Valid Loss: 0.6523 Accuracy: 0.7868 | 0m 47s\n",
            "Epoch 15/50 | Train Loss: 0.6273 Accuracy: 0.7910 | Valid Loss: 0.6544 Accuracy: 0.7858 | 0m 47s\n",
            "Epoch 16/50 | Train Loss: 0.6271 Accuracy: 0.7924 | Valid Loss: 0.6540 Accuracy: 0.7872 | 0m 47s\n",
            "Epoch 17/50 | Train Loss: 0.6257 Accuracy: 0.7917 | Valid Loss: 0.6559 Accuracy: 0.7846 | 0m 47s\n",
            "Epoch 18/50 | Train Loss: 0.6250 Accuracy: 0.7927 | Valid Loss: 0.6547 Accuracy: 0.7861 | 0m 47s\n",
            "Epoch 19/50 | Train Loss: 0.6254 Accuracy: 0.7916 | Valid Loss: 0.6550 Accuracy: 0.7855 | 0m 47s\n",
            "Epoch 20/50 | Train Loss: 0.6257 Accuracy: 0.7924 | Valid Loss: 0.6533 Accuracy: 0.7859 | 0m 47s\n",
            "Epoch 21/50 | Train Loss: 0.6242 Accuracy: 0.7924 | Valid Loss: 0.6581 Accuracy: 0.7840 | 0m 47s\n",
            "Epoch 22/50 | Train Loss: 0.6248 Accuracy: 0.7933 | Valid Loss: 0.6539 Accuracy: 0.7852 | 0m 47s\n",
            "Epoch 23/50 | Train Loss: 0.6266 Accuracy: 0.7931 | Valid Loss: 0.6517 Accuracy: 0.7864 | 0m 47s\n",
            "Epoch 24/50 | Train Loss: 0.6269 Accuracy: 0.7916 | Valid Loss: 0.6545 Accuracy: 0.7857 | 0m 47s\n",
            "Epoch 25/50 | Train Loss: 0.6259 Accuracy: 0.7915 | Valid Loss: 0.6469 Accuracy: 0.7890 | 0m 47s\n",
            "Epoch 26/50 | Train Loss: 0.6254 Accuracy: 0.7924 | Valid Loss: 0.6523 Accuracy: 0.7863 | 0m 47s\n",
            "Epoch 27/50 | Train Loss: 0.6268 Accuracy: 0.7912 | Valid Loss: 0.6524 Accuracy: 0.7868 | 0m 47s\n",
            "Epoch 28/50 | Train Loss: 0.6257 Accuracy: 0.7927 | Valid Loss: 0.6533 Accuracy: 0.7868 | 0m 47s\n",
            "Epoch 29/50 | Train Loss: 0.6248 Accuracy: 0.7935 | Valid Loss: 0.6505 Accuracy: 0.7864 | 0m 47s\n",
            "Epoch 30/50 | Train Loss: 0.6238 Accuracy: 0.7932 | Valid Loss: 0.6527 Accuracy: 0.7858 | 0m 47s\n",
            "Epoch 31/50 | Train Loss: 0.6241 Accuracy: 0.7926 | Valid Loss: 0.6541 Accuracy: 0.7861 | 0m 47s\n",
            "Epoch 32/50 | Train Loss: 0.6233 Accuracy: 0.7931 | Valid Loss: 0.6528 Accuracy: 0.7843 | 0m 47s\n",
            "Epoch 33/50 | Train Loss: 0.6254 Accuracy: 0.7929 | Valid Loss: 0.6532 Accuracy: 0.7855 | 0m 47s\n",
            "Epoch 34/50 | Train Loss: 0.6257 Accuracy: 0.7920 | Valid Loss: 0.6508 Accuracy: 0.7868 | 0m 47s\n",
            "Epoch 35/50 | Train Loss: 0.6266 Accuracy: 0.7918 | Valid Loss: 0.6512 Accuracy: 0.7863 | 0m 47s\n",
            "Epoch 36/50 | Train Loss: 0.6273 Accuracy: 0.7923 | Valid Loss: 0.6541 Accuracy: 0.7856 | 0m 48s\n",
            "Epoch 37/50 | Train Loss: 0.6247 Accuracy: 0.7929 | Valid Loss: 0.6521 Accuracy: 0.7869 | 0m 47s\n",
            "Epoch 38/50 | Train Loss: 0.6277 Accuracy: 0.7921 | Valid Loss: 0.6581 Accuracy: 0.7835 | 0m 47s\n",
            "Epoch 39/50 | Train Loss: 0.6231 Accuracy: 0.7924 | Valid Loss: 0.6559 Accuracy: 0.7860 | 0m 47s\n",
            "Epoch 40/50 | Train Loss: 0.6253 Accuracy: 0.7921 | Valid Loss: 0.6531 Accuracy: 0.7860 | 0m 47s\n",
            "Epoch 41/50 | Train Loss: 0.6255 Accuracy: 0.7927 | Valid Loss: 0.6526 Accuracy: 0.7860 | 0m 47s\n",
            "Epoch 42/50 | Train Loss: 0.6286 Accuracy: 0.7903 | Valid Loss: 0.6573 Accuracy: 0.7856 | 0m 47s\n",
            "Epoch 43/50 | Train Loss: 0.6270 Accuracy: 0.7919 | Valid Loss: 0.6520 Accuracy: 0.7861 | 0m 47s\n",
            "Epoch 44/50 | Train Loss: 0.6267 Accuracy: 0.7917 | Valid Loss: 0.6531 Accuracy: 0.7857 | 0m 47s\n",
            "Epoch 45/50 | Train Loss: 0.6260 Accuracy: 0.7923 | Valid Loss: 0.6541 Accuracy: 0.7855 | 0m 47s\n",
            "Epoch 46/50 | Train Loss: 0.6261 Accuracy: 0.7923 | Valid Loss: 0.6501 Accuracy: 0.7868 | 0m 47s\n",
            "Epoch 47/50 | Train Loss: 0.6260 Accuracy: 0.7921 | Valid Loss: 0.6553 Accuracy: 0.7861 | 0m 48s\n",
            "Epoch 48/50 | Train Loss: 0.6263 Accuracy: 0.7920 | Valid Loss: 0.6525 Accuracy: 0.7866 | 0m 47s\n",
            "Epoch 49/50 | Train Loss: 0.6253 Accuracy: 0.7926 | Valid Loss: 0.6539 Accuracy: 0.7854 | 0m 47s\n",
            "Epoch 50/50 | Train Loss: 0.6267 Accuracy: 0.7920 | Valid Loss: 0.6529 Accuracy: 0.7856 | 0m 47s\n",
            "Training complete in 39m 25s\n",
            "Best Validation Accuracy: 0.788990\n"
          ],
          "name": "stdout"
        },
        {
          "output_type": "display_data",
          "data": {
            "image/png": "[encoded data removed]",
            "text/plain": [
              "<Figure size 432x288 with 1 Axes>"
            ]
          },
          "metadata": {
            "tags": [],
            "needs_background": "light"
          }
        },
        {
          "output_type": "display_data",
          "data": {
            "image/png": "[encoded data removed]",
            "text/plain": [
              "<Figure size 432x288 with 1 Axes>"
            ]
          },
          "metadata": {
            "tags": [],
            "needs_background": "light"
          }
        }
      ]
    },
    {
      "cell_type": "code",
      "metadata": {
        "id": "1dRMehdCkGtI"
      },
      "source": [
        ""
      ],
      "execution_count": null,
      "outputs": []
    }
  ]
}