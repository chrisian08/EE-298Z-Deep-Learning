{
  "nbformat": 4,
  "nbformat_minor": 0,
  "metadata": {
    "colab": {
      "name": "EE298Z Completion Requirement",
      "provenance": [],
      "collapsed_sections": [],
      "authorship_tag": "ABX9TyP7NbuDhSLEzen7VX93+TRi"
    },
    "kernelspec": {
      "name": "python3",
      "display_name": "Python 3"
    },
    "language_info": {
      "name": "python"
    },
    "accelerator": "GPU"
  },
  "cells": [
    {
      "cell_type": "markdown",
      "metadata": {
        "id": "kEI5or70dV5k"
      },
      "source": [
        "# **SVHN Classification using PyTorch Image Models**\n",
        "In this notebook, we train three models on The Street View House Numbers (SVHN) Dataset using  PyTorch Image Models (timm) module. \n",
        "\n",
        "_Brief Description and Overview of the SVHN Dataset_\n",
        "\n",
        "SVHN is a real-world image dataset for developing machine learning and object recognition algorithms with minimal requirement on data preprocessing and formatting. It can be seen as similar in flavor to MNIST (e.g., the images are of small cropped digits), but incorporates an order of magnitude more labeled data (over 600,000 digit images) and comes from a significantly harder, unsolved, real world problem (recognizing digits and numbers in natural scene images). SVHN is obtained from house numbers in Google Street View images.\n",
        "\n",
        "Overview:\n",
        "\n",
        "*  10 classes, 1 for each digit. Digit '1' has label 1, '9' has label 9 and '0' has label 10.\n",
        "* 73257 digits for training, 26032 digits for testing, and 531131 additional, somewhat less difficult samples, to use as extra training data\n",
        "* Comes in two formats:\n",
        "  1. Original images with character level bounding boxes.\n",
        "  2. MNIST-like 32-by-32 images centered around a single character (many of the images do contain some distractors at the sides).\n",
        "\n",
        "(Source: http://ufldl.stanford.edu/housenumbers)"
      ]
    },
    {
      "cell_type": "code",
      "metadata": {
        "colab": {
          "base_uri": "https://localhost:8080/"
        },
        "id": "72OWVt9UzvBR",
        "outputId": "0b543018-b75b-46db-b84b-2ee0557d07e7"
      },
      "source": [
        "# Load the necessary libraries\n",
        "!pip install timm\n",
        "import timm\n",
        "import numpy as np\n",
        "import matplotlib.pyplot as plt\n",
        "import time\n",
        "import os\n",
        "import copy\n",
        "import torch\n",
        "import torch.nn as nn\n",
        "import torch.optim as optim\n",
        "from torch.optim import lr_scheduler\n",
        "import torchvision\n",
        "from torchvision import datasets, models, transforms"
      ],
      "execution_count": 65,
      "outputs": [
        {
          "output_type": "stream",
          "text": [
            "Requirement already satisfied: timm in /usr/local/lib/python3.7/dist-packages (0.4.5)\n",
            "Requirement already satisfied: torchvision in /usr/local/lib/python3.7/dist-packages (from timm) (0.9.1+cu101)\n",
            "Requirement already satisfied: torch>=1.4 in /usr/local/lib/python3.7/dist-packages (from timm) (1.8.1+cu101)\n",
            "Requirement already satisfied: numpy in /usr/local/lib/python3.7/dist-packages (from torchvision->timm) (1.19.5)\n",
            "Requirement already satisfied: pillow>=4.1.1 in /usr/local/lib/python3.7/dist-packages (from torchvision->timm) (7.1.2)\n",
            "Requirement already satisfied: typing-extensions in /usr/local/lib/python3.7/dist-packages (from torch>=1.4->timm) (3.7.4.3)\n"
          ],
          "name": "stdout"
        }
      ]
    },
    {
      "cell_type": "markdown",
      "metadata": {
        "id": "0Mri4ezAK3_F"
      },
      "source": [
        "**Load the SVHN dataset using torchvision**\n",
        "\n",
        "Note: In this dataset, '0' has a label 0 instead of 10"
      ]
    },
    {
      "cell_type": "code",
      "metadata": {
        "id": "ndrGjlzaf3-9"
      },
      "source": [
        "# Download our datasets and apply transforms using the torchvision module\n",
        "mean = np.array([0.5, 0.5, 0.5])\n",
        "std = np.array([0.25, 0.25, 0.25])\n",
        "data_transform = {'train': transforms.Compose([\n",
        "        transforms.ToTensor(),\n",
        "        transforms.Normalize(mean, std)\n",
        "    ]),\n",
        "    'test': transforms.Compose([\n",
        "        transforms.ToTensor(),\n",
        "        transforms.Normalize(mean, std)\n",
        "    ]),\n",
        "}\n",
        "\n",
        "data_dir = 'data/SVHN'\n",
        "image_datasets = {x: datasets.SVHN(os.path.join(data_dir, x), split = x, transform = data_transform[x], download = True)\n",
        "              for x in ['train', 'test']}\n",
        "dataloaders = {x: torch.utils.data.DataLoader(image_datasets[x], batch_size = 128,\n",
        "                                             shuffle = True, num_workers = 0)\n",
        "              for x in ['train', 'test']}\n",
        "dataset_sizes = {x: len(image_datasets[x]) for x in ['train', 'test']}\n",
        "print(\"Train dataset:\", dataset_sizes['train'])\n",
        "print(\"Test dataset:\", dataset_sizes['test'])\n",
        "\n",
        "class_names = [0, 1, 2, 3, 4, 5, 6, 7, 8, 9]\n",
        "\n",
        "# Configure device to use GPU when available \n",
        "device = torch.device(\"cuda:0\" if torch.cuda.is_available() else \"cpu\")"
      ],
      "execution_count": null,
      "outputs": []
    },
    {
      "cell_type": "markdown",
      "metadata": {
        "id": "8C7ApNMHOGux"
      },
      "source": [
        "**Visualize sample images from the datasets**"
      ]
    },
    {
      "cell_type": "code",
      "metadata": {
        "id": "gsaSrLJMKoho"
      },
      "source": [
        "def imshow(input, title, label = ''):\n",
        "    input = input.numpy().transpose((1, 2, 0))\n",
        "    input = std * input + mean\n",
        "    input = np.clip(input, 0, 1)\n",
        "    plt.imshow(input)\n",
        "    plt.title(title.upper())\n",
        "    plt.xlabel(label)\n",
        "    plt.show()\n",
        "\n",
        "num_samples = 5 # number of sample images to show\n",
        "for x in ['train', 'test']:  \n",
        "  # Get samples of data\n",
        "  inputs, classes = next(iter(dataloaders[x]))\n",
        "  # Make a grid using a number of samples (num_samples) from batch \n",
        "  out = torchvision.utils.make_grid(inputs[:num_samples], nrow  = num_samples)\n",
        "  imshow(out, title = x, label = [class_names[name] for name in classes[:num_samples]])"
      ],
      "execution_count": null,
      "outputs": []
    },
    {
      "cell_type": "markdown",
      "metadata": {
        "id": "gPvCHVUF6FB-"
      },
      "source": [
        "**Train the model**\n",
        "\n",
        "In this section, we write a function to train the model, track statistics and save the best model."
      ]
    },
    {
      "cell_type": "code",
      "metadata": {
        "id": "bNyic5Ev03Z3"
      },
      "source": [
        "def train_model(model, criterion, optimizer, scheduler, num_epochs=25):\n",
        "    since = time.time()\n",
        "    best_model_weights = copy.deepcopy(model.state_dict())\n",
        "    best_acc = 0.0\n",
        "    train_hist = []\n",
        "    validation_hist = []\n",
        "    time_hist = []\n",
        "    for epoch in range(num_epochs):\n",
        "        print('Epoch {}/{}'.format(epoch + 1, num_epochs), end = \" | \")\n",
        "        epoch_start_time = time.time()\n",
        "        # Each epoch has a training and validation phase\n",
        "        for phase in ['train', 'test']:\n",
        "            if phase == 'train':\n",
        "                model.train()  # Set model to training mode\n",
        "            else:\n",
        "                model.eval()   # Set model to evaluate mode\n",
        "\n",
        "            running_loss = 0.0\n",
        "            running_corrects = 0\n",
        "\n",
        "            # Iterate over data.\n",
        "            for inputs, labels in dataloaders[phase]:\n",
        "                inputs = inputs.to(device)\n",
        "                labels = labels.to(device)\n",
        "\n",
        "                # forward\n",
        "                # track history if only in train\n",
        "                with torch.set_grad_enabled(phase == 'train'):\n",
        "                    outputs = model(inputs)\n",
        "                    _, preds = torch.max(outputs, 1)\n",
        "                    loss = criterion(outputs, labels)\n",
        "\n",
        "                    # backward + optimize only if in training phase\n",
        "                    if phase == 'train':\n",
        "                        optimizer.zero_grad()\n",
        "                        loss.backward()\n",
        "                        optimizer.step()\n",
        "\n",
        "                # statistics\n",
        "                running_loss += loss.item() * inputs.size(0)\n",
        "                running_corrects += torch.sum(preds == labels.data)\n",
        "\n",
        "            epoch_loss = running_loss / dataset_sizes[phase]\n",
        "            epoch_acc = running_corrects.double() / dataset_sizes[phase]\n",
        "\n",
        "            print('{} Loss: {:.4f} Acc: {:.4f}'.format(\n",
        "                phase.capitalize(), epoch_loss, epoch_acc), end = \" | \")\n",
        "            \n",
        "            if phase == 'train':\n",
        "                scheduler.step()\n",
        "                train_hist.append([epoch_loss, epoch_acc])\n",
        "            # deep copy the model\n",
        "            else:\n",
        "                validation_hist.append([epoch_loss, epoch_acc])\n",
        "                if epoch_acc > best_acc:\n",
        "                  best_acc = epoch_acc\n",
        "                  best_model_weights = copy.deepcopy(model.state_dict())    \n",
        "        time_hist.append(time.time() - epoch_start_time)\n",
        "        print()\n",
        "    time_elapsed = time.time() - since\n",
        "    print('Training complete in {:.0f}m {:.0f}s'.format(\n",
        "        time_elapsed // 60, time_elapsed % 60))\n",
        "    print('Best Validation Accuracy: {:4f}'.format(best_acc))\n",
        "\n",
        "    # load best model weights\n",
        "    model.load_state_dict(best_model_weights)\n",
        "    return model, train_hist, validation_hist, time_hist"
      ],
      "execution_count": 81,
      "outputs": []
    },
    {
      "cell_type": "markdown",
      "metadata": {
        "id": "JbxHxWdA_gk2"
      },
      "source": [
        "**Model 1:  Resnet-18**\n",
        "\n",
        "In this section, we load a pretrained ResNet-18 model, train and evaluate it."
      ]
    },
    {
      "cell_type": "code",
      "metadata": {
        "id": "fEMb_Wm8ZMQs",
        "colab": {
          "base_uri": "https://localhost:8080/",
          "height": 718
        },
        "outputId": "f90965f2-8f8e-45f2-b8c0-216310184f25"
      },
      "source": [
        "# Load a pretrained model and reset final fully connected layer.\n",
        "model = timm.create_model('resnet18', pretrained = True)\n",
        "num_ftrs = model.fc.in_features\n",
        "print(\"Number of features: \", num_ftrs)\n",
        "\n",
        "# Here the size of each output sample is set to 10.\n",
        "num_output = 10\n",
        "# Alternatively, it can be generalized to nn.Linear(num_ftrs, len(classes)).\n",
        "model.fc = nn.Linear(num_ftrs, num_output)\n",
        "\n",
        "model = model.to(device)\n",
        "\n",
        "criterion = nn.CrossEntropyLoss()\n",
        "optimizer = optim.SGD(model.parameters(), lr = 0.001)\n",
        "step_lr_scheduler = lr_scheduler.StepLR(optimizer, step_size = 10, gamma = 0.1)\n",
        "\n",
        "epochs = 5\n",
        "model, train_hist, validation_hist, time_hist = train_model(model, criterion, optimizer, step_lr_scheduler, num_epochs = epochs)\n",
        "\n",
        "plt.plot(range(1, epochs + 1), np.array(train_hist)[:, 1], color = 'y', label = 'Training acc')\n",
        "plt.plot(range(1, epochs + 1), np.array(validation_hist)[:, 1], color = 'r', label = 'Validation acc')\n",
        "plt.title('Training and validation accuracy')\n",
        "plt.xlabel('Epochs')\n",
        "plt.ylabel('Accuracy')\n",
        "plt.legend()\n",
        "plt.show()\n",
        "\n",
        "plt.plot(range(1, epochs + 1), np.array(train_hist)[:, 0], color = 'y', label = 'Training loss')\n",
        "plt.plot(range(1, epochs + 1), np.array(validation_hist)[:, 0], color = 'r', label = 'Validation loss')\n",
        "plt.title('Training and validation loss')\n",
        "plt.xlabel('Epochs')\n",
        "plt.ylabel('Loss')\n",
        "plt.legend()\n",
        "plt.show()"
      ],
      "execution_count": 82,
      "outputs": [
        {
          "output_type": "stream",
          "text": [
            "Number of features:  512\n",
            "Epoch 1/5 | Train Loss: 1.4102 Acc: 0.5172 | Test Loss: 0.8151 Acc: 0.7329 | \n",
            "Epoch 2/5 | Train Loss: 0.7439 Acc: 0.7542 | Test Loss: 0.5477 Acc: 0.8277 | \n",
            "Epoch 3/5 | Train Loss: 0.5584 Acc: 0.8187 | Test Loss: 0.4455 Acc: 0.8622 | \n",
            "Epoch 4/5 | Train Loss: 0.4631 Acc: 0.8518 | Test Loss: 0.3968 Acc: 0.8765 | \n",
            "Epoch 5/5 | Train Loss: 0.4058 Acc: 0.8728 | Test Loss: 0.3714 Acc: 0.8842 | \n",
            "Training complete in 5m 11s\n",
            "Best Validation Accuracy: 0.884181\n"
          ],
          "name": "stdout"
        },
        {
          "output_type": "display_data",
          "data": {
            "image/png": "[encoded data removed]",
            "text/plain": [
              "<Figure size 432x288 with 1 Axes>"
            ]
          },
          "metadata": {
            "tags": [],
            "needs_background": "light"
          }
        },
        {
          "output_type": "display_data",
          "data": {
            "image/png": "[encoded data removed]",
            "text/plain": [
              "<Figure size 432x288 with 1 Axes>"
            ]
          },
          "metadata": {
            "tags": [],
            "needs_background": "light"
          }
        }
      ]
    }
  ]
}